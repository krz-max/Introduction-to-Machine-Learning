{
 "cells": [
  {
   "cell_type": "markdown",
   "metadata": {},
   "source": [
    "## HW3: Decision Tree, AdaBoost and Random Forest\n",
    "In hw3, you need to implement decision tree, adaboost and random forest by using only numpy, then train your implemented model by the provided dataset. TA will use the on-hold test label to evaluate your model performance.\n",
    "\n",
    "Please note that only **NUMPY** can be used to implement your model, you will get no points by simply calling `sklearn.tree.DecisionTreeClassifier`"
   ]
  },
  {
   "cell_type": "markdown",
   "metadata": {},
   "source": [
    "## Question 1\n",
    "Gini Index or Entropy is often used for measuring the “best” splitting of the data. Please compute the Entropy and Gini Index of provided data. Please use the formula from [page 5 of hw3 slides](https://docs.google.com/presentation/d/1kIe_-YZdemRMmr_3xDy-l0OS2EcLgDH7Uan14tlU5KE/edit#slide=id.gd542a5ff75_0_15)"
   ]
  },
  {
   "cell_type": "code",
   "execution_count": 343,
   "metadata": {},
   "outputs": [],
   "source": [
    "# Copy and paste your implementations right here to check your result\n",
    "# (Of course you can add your classes not written here)\n",
    "# return the probability of each classes\n",
    "import random\n",
    "\n",
    "import matplotlib.pyplot as plt\n",
    "import numpy as np\n",
    "import pandas as pd\n",
    "from sklearn.metrics import accuracy_score\n",
    "\n",
    "\n",
    "def gini(sequence, weight=None):\n",
    "    if weight is None:\n",
    "        class_seq, cnt = np.unique(sequence.astype(np.int32), return_counts=True)\n",
    "        p = cnt / sequence.shape[0]\n",
    "        return 1 - np.sum(p ** 2)\n",
    "    if len(weight) == 0:\n",
    "        return 0\n",
    "    p = np.sum(weight[sequence == 0]) / np.sum(weight)\n",
    "    return 1 - p ** 2 - (1-p) ** 2\n",
    "    \n",
    "\n",
    "def entropy(sequence, weight=None):\n",
    "    if weight is None:\n",
    "        class_seq, cnt = np.unique(sequence.astype(np.int32), return_counts=True)\n",
    "        p = cnt / sequence.shape[0]\n",
    "        # p != 0 because unique will not return an element that's not in the sequence\n",
    "        return (-1) * np.sum(p * np.log2(p))\n",
    "    if len(weight) == 0:\n",
    "        return 0\n",
    "    p = np.sum(np.where(sequence == 0, weight, 0)) / np.sum(weight)\n",
    "    return (-1) * (p * np.log2(p) + (1-p) * np.log2((1-p)))\n"
   ]
  },
  {
   "cell_type": "code",
   "execution_count": 344,
   "metadata": {},
   "outputs": [],
   "source": [
    "# 1 = class 1,\n",
    "# 2 = class 2\n",
    "data = np.array([1,2,1,1,1,1,2,2,1,1,2])"
   ]
  },
  {
   "cell_type": "code",
   "execution_count": 345,
   "metadata": {},
   "outputs": [
    {
     "name": "stdout",
     "output_type": "stream",
     "text": [
      "Gini of data is  0.4628099173553719\n"
     ]
    }
   ],
   "source": [
    "print(\"Gini of data is \", gini(data))"
   ]
  },
  {
   "cell_type": "code",
   "execution_count": 346,
   "metadata": {},
   "outputs": [
    {
     "name": "stdout",
     "output_type": "stream",
     "text": [
      "Entropy of data is  0.9456603046006401\n"
     ]
    }
   ],
   "source": [
    "print(\"Entropy of data is \", entropy(data))"
   ]
  },
  {
   "cell_type": "markdown",
   "metadata": {},
   "source": [
    "## Load data\n",
    "It is a binary classifiation dataset that classify if price is high or not for a cell phone, the label is stored in `price_range` column."
   ]
  },
  {
   "cell_type": "code",
   "execution_count": 347,
   "metadata": {},
   "outputs": [
    {
     "name": "stdout",
     "output_type": "stream",
     "text": [
      "(1200, 21)\n",
      "(300, 21)\n",
      "(500, 20)\n",
      "x_train: <class 'numpy.ndarray'>\n",
      "y_train: <class 'numpy.ndarray'>\n",
      "x_test: <class 'numpy.ndarray'>\n",
      "y_test: <class 'numpy.ndarray'>\n",
      "x_test_q6: <class 'numpy.ndarray'>\n"
     ]
    }
   ],
   "source": [
    "train_df = pd.read_csv('train.csv')\n",
    "val_df = pd.read_csv('val.csv')\n",
    "test_df = pd.read_csv('x_test.csv')\n",
    "print(train_df.shape)\n",
    "print(val_df.shape)\n",
    "print(test_df.shape)\n",
    "\n",
    "x_train = train_df.drop(labels=[\"price_range\"], axis=\"columns\")\n",
    "feature_names = x_train.columns.values\n",
    "x_train = x_train.values\n",
    "y_train = train_df['price_range'].values\n",
    "\n",
    "x_test = val_df.drop(labels=[\"price_range\"], axis=\"columns\")\n",
    "x_test = x_test.values\n",
    "y_test = val_df['price_range'].values\n",
    "\n",
    "x_test_q6 = test_df.values\n",
    "\n",
    "print(\"x_train:\", type(x_train))\n",
    "print(\"y_train:\", type(y_train))\n",
    "print(\"x_test:\", type(x_test))\n",
    "print(\"y_test:\", type(y_test))\n",
    "print(\"x_test_q6:\", type(x_test_q6))"
   ]
  },
  {
   "cell_type": "markdown",
   "metadata": {},
   "source": [
    "## Question 2\n",
    "Implement the Decision Tree algorithm (CART, Classification and Regression Trees) and trained the model by the given arguments, and print the accuracy score on the validation data. You should implement two arguments for the Decision Tree algorithm\n",
    "1. **criterion**: The function to measure the quality of a split. Your model should support `gini` for the Gini impurity and `entropy` for the information gain. \n",
    "2. **max_depth**: The maximum depth of the tree. If `max_depth=None`, then nodes are expanded until all leaves are pure. `max_depth=1` equals to split data once\n"
   ]
  },
  {
   "cell_type": "markdown",
   "metadata": {},
   "source": [
    "### Question 2.1\n",
    "Using `criterion=gini`, showing the accuracy score of validation data by `max_depth=3` and `max_depth=10`, respectively.\n"
   ]
  },
  {
   "cell_type": "code",
   "execution_count": 348,
   "metadata": {},
   "outputs": [],
   "source": [
    "class Question():\n",
    "    def __init__(self, column, value):\n",
    "        self.column = column\n",
    "        self.value = value\n",
    "        pass\n",
    "\n",
    "    def match(self, row):\n",
    "        val = row[self.column]\n",
    "        return val >= self.value\n",
    "\n",
    "\n",
    "class DecisionTree():\n",
    "    def __init__(self, criterion='gini', max_depth=None, k_features=None, sample_weight=None):\n",
    "        self.criterion = criterion\n",
    "        self.max_depth = max_depth\n",
    "        self.n_features = None\n",
    "        self.root = None\n",
    "        self.k_features = k_features\n",
    "        self.feature_count = {}\n",
    "        self.sample_weight = sample_weight\n",
    "        if criterion == 'gini':\n",
    "            self.measureFunc = gini\n",
    "        else:\n",
    "            self.measureFunc = entropy\n",
    "        return None\n",
    "\n",
    "    class TreeNode():\n",
    "        def __init__(self):\n",
    "            self.rows = None\n",
    "            self.gain = None\n",
    "            self.question = None\n",
    "            self.pred = None\n",
    "            self.left = None\n",
    "            self.right = None\n",
    "            return None\n",
    "\n",
    "    def Informationgain(self, left_rows, right_rows, currentImpurity, l_weight=None, r_weight=None):\n",
    "        if l_weight is not None and r_weight is not None:\n",
    "            p = np.sum(l_weight) / (np.sum(l_weight) + np.sum(r_weight))\n",
    "        else:\n",
    "            p = float(len(left_rows)) / (len(left_rows) + len(right_rows))\n",
    "        return currentImpurity - p * self.measureFunc(left_rows[:, -1].astype(np.int32), weight=l_weight) - (1 - p) * self.measureFunc(right_rows[:, -1].astype(np.int32), weight=r_weight)\n",
    "\n",
    "    def find_best_split(self, rows):\n",
    "        \"\"\"Find the best split by repeating asking whether a property of a data is greater than thresholds\n",
    "        generated by sorting N data using each property\n",
    "\n",
    "        Args:\n",
    "            rows (N,21): includes 20 properties and 1 columns representing the class of each row.\n",
    "        \"\"\"\n",
    "        best_gain = 0\n",
    "        best_question = None\n",
    "        current_impurity = self.measureFunc(rows[:, -1].astype(np.int32), weight=self.sample_weight)\n",
    "\n",
    "        # for random forest\n",
    "        if self.k_features is not None:\n",
    "            # choose $(max_features) features from data\n",
    "            if self.k_features > self.n_features-1:\n",
    "                n_cols = np.arange(self.n_features-1) # [0,21)\n",
    "            else:\n",
    "                n_cols = random.sample(range(self.n_features-1), k=self.k_features)\n",
    "        else:\n",
    "            n_cols = np.arange(self.n_features-1) # [0, 21)\n",
    "        # for each feature\n",
    "        for col in n_cols:\n",
    "\n",
    "            # Try N threshold values\n",
    "            for idx in range(len(rows)):\n",
    "                current_threshold = rows[idx, col]\n",
    "\n",
    "                # is data[col] >= current_threshold ?\n",
    "                # if it's binary, the threshold is 0.5, so it's ok to use '>=' to compare\n",
    "                # if it's real value, also valid to use '>=' to compare\n",
    "                question = Question(column=col,\n",
    "                                    value=current_threshold)\n",
    "\n",
    "                # split the data using current question\n",
    "                # true and false are candidates for best split(potential child nodes)\n",
    "                true_rows = rows[rows[:, col] >= current_threshold]\n",
    "                false_rows = rows[rows[:, col] < current_threshold]\n",
    "                if self.sample_weight is not None:\n",
    "                    left_weight = self.sample_weight[rows[:, col] >= current_threshold]\n",
    "                    right_weight = self.sample_weight[rows[:, col] < current_threshold]\n",
    "                else:\n",
    "                    left_weight = None\n",
    "                    right_weight = None\n",
    "                \n",
    "                current_gain = self.Informationgain(left_rows=true_rows,\n",
    "                                                    right_rows=false_rows,\n",
    "                                                    currentImpurity=current_impurity,\n",
    "                                                    l_weight=left_weight,\n",
    "                                                    r_weight=right_weight)\n",
    "\n",
    "                if current_gain >= best_gain or best_question is None:\n",
    "                    best_gain, best_question = current_gain, question\n",
    "\n",
    "        label = train_df.columns[best_question.column]\n",
    "        if self.feature_count.get(label) is not None:\n",
    "            self.feature_count[label] = self.feature_count[label] + 1\n",
    "        else:\n",
    "            self.feature_count[label] = 1\n",
    "        return current_gain, best_question\n",
    "\n",
    "\n",
    "    def generateTree(self, rows, cur_depth=None):\n",
    "        \"\"\"Generate the decision tree\n",
    "\n",
    "        Args:\n",
    "            rows (N,21): includes 20 properties and 1 columns representing the class of each row.\n",
    "            cur_depth: keep subtract until 0, the recursion will terminate when cur_depth = 0 or the node is pure\n",
    "            dist: for adaboost, use distribution to calculate the error and find best split\n",
    "        \"\"\"\n",
    "        cur_node = self.TreeNode()\n",
    "        if self.measureFunc(sequence=rows[:, -1].astype(np.int32)) == 0:\n",
    "            cur_node.pred = int(rows[0, -1])\n",
    "        elif cur_depth == 0:\n",
    "            if np.count_nonzero(rows[:, -1].astype(np.int32)) >= rows.shape[0] / 2:\n",
    "                cur_node.pred = 1\n",
    "            else:\n",
    "                cur_node.pred = 0\n",
    "        else:\n",
    "            best_gain, best_question = self.find_best_split(rows=rows)\n",
    "            cur_node.rows = rows\n",
    "            cur_node.gain = best_gain\n",
    "            cur_node.question = best_question\n",
    "            left_child  = rows[rows[:, best_question.column] >= best_question.value]\n",
    "            right_child = rows[rows[:, best_question.column] < best_question.value]\n",
    "            if len(left_child) == 0:\n",
    "                cur_node.pred = int(right_child[0, -1])\n",
    "                return cur_node\n",
    "            if len(right_child) == 0:\n",
    "                cur_node.pred = int(left_child[0, -1])\n",
    "                return cur_node\n",
    "            if cur_depth is None:\n",
    "                cur_node.left = self.generateTree(rows=left_child)\n",
    "                cur_node.right = self.generateTree(rows=right_child)\n",
    "            else:\n",
    "                cur_node.left = self.generateTree(\n",
    "                    rows=left_child, cur_depth=cur_depth-1)\n",
    "                cur_node.right = self.generateTree(\n",
    "                    rows=right_child, cur_depth=cur_depth-1)\n",
    "        return cur_node\n",
    "\n",
    "    # Generate Tree by fitting data\n",
    "    def fit(self, x_data, y_data):\n",
    "        self.feature_count = {}\n",
    "        y_data = y_data[:, np.newaxis]\n",
    "        rows = np.hstack((x_data, y_data))\n",
    "        self.n_features = rows.shape[1] # 21\n",
    "        self.root = self.generateTree(rows=rows, cur_depth=self.max_depth)\n",
    "    \n",
    "\n",
    "    def feature_importance(self):\n",
    "        fi = []\n",
    "        for key in self.feature_count.keys():\n",
    "            fi.append(self.feature_count[key])\n",
    "        return fi\n",
    "\n",
    "    def traverse(self, cur_node, x_data):\n",
    "        if cur_node.pred is not None:\n",
    "            return cur_node.pred\n",
    "        if cur_node.question.match(x_data) == 1:\n",
    "            return self.traverse(cur_node=cur_node.left, x_data=x_data)\n",
    "        else:\n",
    "            return self.traverse(cur_node=cur_node.right, x_data=x_data)\n",
    "\n",
    "    def print_acc(self, ans, pred):\n",
    "        diff = np.sum(np.where(ans != pred, 1, 0))\n",
    "        acc = 1 - diff / len(pred)\n",
    "        print(f'criterion = {self.criterion}')\n",
    "        print(f'max depth = {self.max_depth}')\n",
    "        print(f'acc       = {acc}')\n",
    "        print('====================')\n",
    "    def get_feature_count(self):\n",
    "        print(self.feature_count)\n",
    "        return\n",
    "\n",
    "    # After fitting, use the gererated tree to predict x_data\n",
    "    def predict(self, x_data): # x_data doesn't contain label\n",
    "        pred = []\n",
    "        for row in x_data:\n",
    "            ans = self.traverse(cur_node=self.root, x_data=row)\n",
    "            pred.append(ans)\n",
    "        return np.array(pred)"
   ]
  },
  {
   "cell_type": "code",
   "execution_count": 349,
   "metadata": {},
   "outputs": [
    {
     "name": "stdout",
     "output_type": "stream",
     "text": [
      "Decision Tree\n",
      "{'ram': 3, 'battery_power': 3, 'px_height': 1}\n",
      "gini_depth3's accuracy_score: 0.92\n",
      "{'ram': 9, 'battery_power': 8, 'px_height': 10, 'talk_time': 4, 'sc_h': 2, 'wifi': 3, 'px_width': 5, 'm_dep': 1, 'mobile_wt': 1, 'touch_screen': 2, 'sc_w': 1, 'fc': 1}\n",
      "gini_depth10 accuracy_score: 0.9433333333333334\n"
     ]
    }
   ],
   "source": [
    "print('Decision Tree')\n",
    "clf_depth3 = DecisionTree(criterion='gini', max_depth=3)\n",
    "clf_depth3.fit(x_data=x_train, y_data=y_train)\n",
    "clf_depth3.get_feature_count()\n",
    "pred = clf_depth3.predict(x_data=x_test)\n",
    "print(f'gini_depth3\\'s accuracy_score: {accuracy_score(y_test, pred)}')\n",
    "\n",
    "clf_depth10 = DecisionTree(criterion='gini', max_depth=10)\n",
    "clf_depth10.fit(x_data=x_train, y_data=y_train)\n",
    "clf_depth10.get_feature_count()\n",
    "pred = clf_depth10.predict(x_data=x_test)\n",
    "print(f'gini_depth10 accuracy_score: {accuracy_score(y_test, pred)}')"
   ]
  },
  {
   "cell_type": "markdown",
   "metadata": {},
   "source": [
    "### Question 2.2\n",
    "Using `max_depth=3`, showing the accuracy score of validation data by `criterion=gini` and `criterion=entropy`, respectively.\n"
   ]
  },
  {
   "cell_type": "code",
   "execution_count": 350,
   "metadata": {},
   "outputs": [
    {
     "name": "stdout",
     "output_type": "stream",
     "text": [
      "{'ram': 3, 'battery_power': 3, 'px_height': 1}\n",
      "gini_depth3's accuracy_score: 0.92\n",
      "{'ram': 3, 'battery_power': 3, 'px_height': 1}\n",
      "entropy_depth3's accuracy_score: 0.9333333333333333\n"
     ]
    }
   ],
   "source": [
    "clf_gini = DecisionTree(criterion='gini', max_depth=3)\n",
    "clf_gini.fit(x_data=x_train, y_data=y_train)\n",
    "clf_gini.get_feature_count()\n",
    "pred = clf_gini.predict(x_data=x_test)\n",
    "print(f'gini_depth3\\'s accuracy_score: {accuracy_score(y_test, pred)}')\n",
    "\n",
    "clf_entropy = DecisionTree(criterion='entropy', max_depth=3)\n",
    "clf_entropy.fit(x_data=x_train, y_data=y_train)\n",
    "clf_entropy.get_feature_count()\n",
    "pred = clf_entropy.predict(x_data=x_test)\n",
    "print(f'entropy_depth3\\'s accuracy_score: {accuracy_score(y_test, pred)}')"
   ]
  },
  {
   "cell_type": "markdown",
   "metadata": {},
   "source": [
    "- Note: Your decisition tree scores should over **0.7**. It may suffer from overfitting, if so, you can tune the hyperparameter such as `max_depth`\n",
    "- Note: You should get the same results when re-building the model with the same arguments,  no need to prune the trees\n",
    "- Hint: You can use the recursive method to build the nodes\n"
   ]
  },
  {
   "cell_type": "markdown",
   "metadata": {},
   "source": [
    "## Question 3\n",
    "Plot the [feature importance](https://sefiks.com/2020/04/06/feature-importance-in-decision-trees/) of your Decision Tree model. You can get the feature importance by counting the feature used for splitting data.\n",
    "\n",
    "- You can simply plot the **counts of feature used** for building tree without normalize the importance. Take the figure below as example, outlook feature has been used for splitting for almost 50 times. Therefore, it has the largest importance\n",
    "\n",
    "![image](https://i2.wp.com/sefiks.com/wp-content/uploads/2020/04/c45-fi-results.jpg?w=481&ssl=1)"
   ]
  },
  {
   "cell_type": "code",
   "execution_count": 351,
   "metadata": {},
   "outputs": [
    {
     "name": "stdout",
     "output_type": "stream",
     "text": [
      "dict_keys(['m_dep', 'mobile_wt', 'sc_w', 'fc', 'sc_h', 'touch_screen', 'wifi', 'talk_time', 'px_width', 'battery_power', 'ram', 'px_height'])\n",
      "dict_values([1, 1, 1, 1, 2, 2, 3, 4, 5, 8, 9, 10])\n"
     ]
    },
    {
     "data": {
      "image/png": "[encoded data removed]",
      "text/plain": [
       "<Figure size 640x480 with 1 Axes>"
      ]
     },
     "metadata": {},
     "output_type": "display_data"
    }
   ],
   "source": [
    "# ## Question 3\n",
    "# Plot the [feature importance](https://sefiks.com/2020/04/06/feature-importance-in-decision-trees/) of your Decision Tree model. You can get the feature importance by counting the feature used for splitting data.\n",
    "\n",
    "# feature_sorted = dict(sorted(clf_depth3.feature_count.items(), key=lambda item: item[1]))\n",
    "# feature_names = feature_sorted.keys()\n",
    "# print(feature_names)\n",
    "# feature_counts = feature_sorted.values()\n",
    "# print(feature_counts)\n",
    "\n",
    "# x_pos = [x for x,_ in enumerate(feature_names)]\n",
    "# plt.barh(x_pos, feature_counts, height=0.4)\n",
    "# plt.ylabel('feature names')\n",
    "# plt.xlabel('feature importance')\n",
    "# plt.xticks(np.arange(max(feature_counts)+1))\n",
    "# plt.yticks(x_pos, feature_names, rotation=45)\n",
    "# plt.gca().grid(axis='x', which='major')\n",
    "# plt.tight_layout()\n",
    "# plt.savefig('fi_gini_d3.png', dpi=300, transparent=False)\n",
    "# plt.clf()\n",
    "\n",
    "feature_sorted = dict(sorted(clf_depth10.feature_count.items(), key=lambda item: item[1]))\n",
    "feature_names = feature_sorted.keys()\n",
    "print(feature_names)\n",
    "feature_counts = feature_sorted.values()\n",
    "print(feature_counts)\n",
    "\n",
    "x_pos = [x for x,_ in enumerate(feature_names)]\n",
    "plt.barh(x_pos, feature_counts, height=0.4)\n",
    "plt.ylabel('feature names')\n",
    "plt.xlabel('feature importance')\n",
    "plt.xticks(np.arange(max(feature_counts)+1))\n",
    "plt.yticks(x_pos, feature_names, rotation=45)\n",
    "plt.show()\n",
    "\n",
    "# feature_sorted = dict(sorted(clf_entropy.feature_count.items(), key=lambda item: item[1]))\n",
    "# feature_names = feature_sorted.keys()\n",
    "# print(feature_names)\n",
    "# feature_counts = feature_sorted.values()\n",
    "# print(feature_counts)\n",
    "\n",
    "# x_pos = [x for x,_ in enumerate(feature_names)]\n",
    "# plt.barh(x_pos, feature_counts, height=0.4)\n",
    "# plt.ylabel('feature names')\n",
    "# plt.xlabel('feature importance')\n",
    "# plt.xticks(np.arange(max(feature_counts)+1))\n",
    "# plt.yticks(x_pos, feature_names, rotation=45)\n",
    "# plt.gca().grid(axis='x', which='major')\n",
    "# plt.tight_layout()\n",
    "# plt.savefig('fi_entropy_d3.png', dpi=300, transparent=False)\n",
    "# plt.clf()"
   ]
  },
  {
   "cell_type": "markdown",
   "metadata": {},
   "source": [
    "## Question 4\n",
    "implement the AdaBooest algorithm by using the CART you just implemented from question 2 as base learner. You should implement one arguments for the AdaBooest.\n",
    "1. **n_estimators**: The maximum number of estimators at which boosting is terminated"
   ]
  },
  {
   "cell_type": "code",
   "execution_count": 352,
   "metadata": {},
   "outputs": [],
   "source": [
    "class AdaBoost():\n",
    "    def __init__(self, n_estimators, criterion='gini'):\n",
    "        self.n_estimators = n_estimators\n",
    "        self.criterion = criterion\n",
    "        if criterion == 'gini':\n",
    "            self.meas_func = gini\n",
    "        else:\n",
    "            self.meas_func = entropy\n",
    "        self.n_trees = [DecisionTree(self.criterion, max_depth=1) for i in range(n_estimators)]\n",
    "        self.distribution = None\n",
    "        self.weight = []\n",
    "        return None\n",
    "    \n",
    "    def get_feature_count(self):\n",
    "        for iter in range(self.n_estimators):\n",
    "            self.n_trees[iter].get_feature_count()\n",
    "        return \n",
    "\n",
    "    def print_acc(self, ans, pred):\n",
    "        diff = np.sum(np.where(ans != pred, 1, 0))\n",
    "        acc = 1 - diff / len(pred)\n",
    "        print(f'criterion = {self.criterion}')\n",
    "        print(f'acc       = {acc}')\n",
    "        print('====================')\n",
    "    \n",
    "    def fit(self, x_data, y_data):\n",
    "        self.distribution = np.repeat(1 / x_data.shape[0], x_data.shape[0])\n",
    "        for iter in range(self.n_estimators):\n",
    "            self.n_trees[iter].sample_weight = self.distribution\n",
    "            self.n_trees[iter].fit(x_data=x_data, y_data=y_data)\n",
    "            \n",
    "            # predict\n",
    "            pred = self.n_trees[iter].predict(x_data)\n",
    "            pred = np.where(pred != y_data, 1, 0)\n",
    "\n",
    "            error_t = np.sum(pred * self.distribution)\n",
    "            weight_t = (0.5) * np.log((1-error_t) / (error_t))\n",
    "            self.weight.append(weight_t)\n",
    "        \n",
    "            # wrong pred => -1, right pred => 1\n",
    "            pred = np.where(pred == 0, 1, -1)\n",
    "            self.distribution = self.distribution * np.exp((-1) * weight_t * pred)\n",
    "            self.distribution = self.distribution / np.sum(self.distribution)\n",
    "            \n",
    "        self.weight = np.array(self.weight)\n",
    "\n",
    "    def predict(self, x_data):\n",
    "        pred = np.zeros((len(x_data), self.n_estimators))\n",
    "        rows = x_data[:, 0:20]\n",
    "        for iter in range(self.n_estimators):\n",
    "            # prediction of iter-th tree on all data\n",
    "            pred_i = self.n_trees[iter].predict(x_data=rows)\n",
    "            pred_i = np.where(pred_i == 0, -1, 1)\n",
    "            pred[:, iter] = pred_i\n",
    "        total = np.sum(self.weight[np.newaxis, :] * pred, axis=1)\n",
    "        total = np.where(total >= 0, 1, 0)\n",
    "        return total"
   ]
  },
  {
   "cell_type": "markdown",
   "metadata": {},
   "source": [
    "### Question 4.1\n",
    "Show the accuracy score of validation data by `n_estimators=10` and `n_estimators=100`, respectively.\n"
   ]
  },
  {
   "cell_type": "code",
   "execution_count": 353,
   "metadata": {},
   "outputs": [
    {
     "name": "stdout",
     "output_type": "stream",
     "text": [
      "Adaboost\n",
      "n=10's accuracy_score: 0.95\n",
      "n=100's accuracy_score: 0.9766666666666667\n"
     ]
    }
   ],
   "source": [
    "print('Adaboost')\n",
    "ada_10est = AdaBoost(n_estimators=10)\n",
    "ada_10est.fit(x_data=x_train, y_data=y_train)\n",
    "pred = ada_10est.predict(x_data=x_test)\n",
    "print(f'n=10\\'s accuracy_score: {accuracy_score(y_test, pred)}')\n",
    "\n",
    "ada_100est = AdaBoost(n_estimators=100)\n",
    "ada_100est.fit(x_data=x_train, y_data=y_train)\n",
    "pred = ada_100est.predict(x_data=x_test)\n",
    "print(f'n=100\\'s accuracy_score: {accuracy_score(y_test, pred)}')"
   ]
  },
  {
   "cell_type": "markdown",
   "metadata": {},
   "source": [
    "## Question 5\n",
    "implement the Random Forest algorithm by using the CART you just implemented from question 2. You should implement three arguments for the Random Forest.\n",
    "\n",
    "1. **n_estimators**: The number of trees in the forest. \n",
    "2. **max_features**: The number of random select features to consider when looking for the best split\n",
    "3. **bootstrap**: Whether bootstrap samples are used when building tree\n"
   ]
  },
  {
   "cell_type": "code",
   "execution_count": 354,
   "metadata": {},
   "outputs": [],
   "source": [
    "class RandomForest():\n",
    "    def __init__(self, n_estimators, max_features, bootstrap=True, criterion='gini', max_depth=None):\n",
    "        self.n_estimators = n_estimators\n",
    "        self.max_features = int(np.round(max_features))\n",
    "        self.use_bootstrap = bootstrap\n",
    "        self.criterion = criterion\n",
    "        self.max_depth = max_depth\n",
    "        self.n_trees = [DecisionTree(self.criterion, self.max_depth, self.max_features) for i in range(self.n_estimators)]\n",
    "        return None\n",
    "    \n",
    "    def get_feature_count(self):\n",
    "        for iter in range(self.n_estimators):\n",
    "            self.n_trees[iter].get_feature_count()\n",
    "        return \n",
    "\n",
    "    def fit(self, x_data, y_data):\n",
    "        for iter in range(self.n_estimators):\n",
    "            if self.use_bootstrap == True:\n",
    "                # draw N random samples from dataset\n",
    "                n_rows = np.random.randint(x_data.shape[0], size=len(x_data))\n",
    "                rows = x_data[n_rows]\n",
    "                self.n_trees[iter].fit(np.array(rows), y_data[n_rows])\n",
    "            else:\n",
    "                self.n_trees[iter].fit(x_data=x_data, y_data=y_data)\n",
    "        return\n",
    "\n",
    "    def print_acc(self, ans, pred):\n",
    "        diff = np.sum(np.where(ans != pred, 1, 0))\n",
    "        acc = 1 - diff / len(pred)\n",
    "        print(f'n estimators = {self.n_estimators}')\n",
    "        print(f'max features = {self.max_features}')\n",
    "        print(f'boostrap     = {self.use_bootstrap}')\n",
    "        print(f'criterion    = {self.criterion}')\n",
    "        print(f'max depth    = {self.max_depth}')\n",
    "        print(f'acc          = {acc}')\n",
    "        print('====================')\n",
    "\n",
    "    def predict(self, x_data):\n",
    "        x_pred = []\n",
    "        for row in x_data:\n",
    "            row = row[np.newaxis, :]\n",
    "            vote_now = []\n",
    "            for tree_k in self.n_trees:\n",
    "                pred = tree_k.predict(x_data=row)\n",
    "                vote_now.append(pred)\n",
    "            label, cnt = np.unique(vote_now, return_counts=True)\n",
    "            vote_now = label[np.argmax(cnt)]\n",
    "            x_pred.append(vote_now)\n",
    "        return np.array(x_pred)"
   ]
  },
  {
   "cell_type": "markdown",
   "metadata": {},
   "source": [
    "### Question 5.1\n",
    "Using `criterion=gini`, `max_depth=None`, `max_features=sqrt(n_features)`, showing the accuracy score of validation data by `n_estimators=10` and `n_estimators=100`, respectively.\n"
   ]
  },
  {
   "cell_type": "code",
   "execution_count": 355,
   "metadata": {},
   "outputs": [
    {
     "name": "stdout",
     "output_type": "stream",
     "text": [
      "Random Forest()\n",
      "n_estimator=10's accuracy_score: 0.9233333333333333\n",
      "n_estimator=100's accuracy_score: 0.93\n"
     ]
    }
   ],
   "source": [
    "print('Random Forest()')\n",
    "clf_10tree = RandomForest(n_estimators=10, max_features=np.sqrt(x_train.shape[1]), max_depth=None, criterion='gini')\n",
    "clf_10tree.fit(x_data=x_train, y_data=y_train)\n",
    "pred = clf_10tree.predict(x_data=x_test)\n",
    "print(f'n_estimator=10\\'s accuracy_score: {accuracy_score(y_test, pred)}')\n",
    "# clf_10tree.print_acc(y_test, pred)\n",
    "\n",
    "clf_100tree = RandomForest(n_estimators=100, max_features=np.sqrt(x_train.shape[1]), max_depth=None, criterion='gini')\n",
    "clf_100tree.fit(x_data=x_train, y_data=y_train)\n",
    "pred = clf_100tree.predict(x_data=x_test)\n",
    "print(f'n_estimator=100\\'s accuracy_score: {accuracy_score(y_test, pred)}')\n",
    "# # clf_100tree.print_acc(y_test, pred)"
   ]
  },
  {
   "cell_type": "markdown",
   "metadata": {},
   "source": [
    "### Question 5.2\n",
    "Using `criterion=gini`, `max_depth=None`, `n_estimators=10`, showing the accuracy score of validation data by `max_features=sqrt(n_features)` and `max_features=n_features`, respectively.\n"
   ]
  },
  {
   "cell_type": "code",
   "execution_count": 356,
   "metadata": {},
   "outputs": [
    {
     "name": "stdout",
     "output_type": "stream",
     "text": [
      "Random Forest-2()\n",
      "sqrt(N) features accuracy_score: 0.9233333333333333\n",
      "All features accuracy_score: 0.95\n"
     ]
    }
   ],
   "source": [
    "print('Random Forest-2()')\n",
    "clf_random_features = RandomForest(n_estimators=10, max_features=np.sqrt(x_train.shape[1]))\n",
    "clf_random_features.fit(x_data=x_train, y_data=y_train)\n",
    "pred = clf_random_features.predict(x_data=x_test)\n",
    "print(f'sqrt(N) features accuracy_score: {accuracy_score(y_test, pred)}')\n",
    "# clf_random_features.print_acc(y_test, pred)\n",
    "\n",
    "clf_all_features = RandomForest(n_estimators=10, max_features=x_train.shape[1])\n",
    "clf_all_features.fit(x_data=x_train, y_data=y_train)\n",
    "pred = clf_all_features.predict(x_data=x_test)\n",
    "print(f'All features accuracy_score: {accuracy_score(y_test, pred)}')\n",
    "# clf_all_features.print_acc(y_test, pred)"
   ]
  },
  {
   "cell_type": "markdown",
   "metadata": {},
   "source": [
    "- Note: Use majority votes to get the final prediction, you may get slightly different results when re-building the random forest model"
   ]
  },
  {
   "cell_type": "markdown",
   "metadata": {},
   "source": [
    "### Question 6. Train and tune your model on a real-world dataset\n",
    "Try you best to get higher accuracy score of your model. After parameter tuning, you can train your model on the full dataset (train + val).\n",
    "- Feature engineering\n",
    "- Hyperparameter tuning\n",
    "- Implement any other ensemble methods, such as gradient boosting. Please note that you **can not** call any package. Also, only ensemble method can be used. Neural network method is not allowed to used."
   ]
  },
  {
   "cell_type": "code",
   "execution_count": 357,
   "metadata": {},
   "outputs": [],
   "source": [
    "def train_your_model(data):\n",
    "    x_train = data.drop(labels=[\"price_range\"], axis=\"columns\")\n",
    "    feature_names = x_train.columns.values\n",
    "    x_train = x_train.values\n",
    "    y_train = data['price_range'].values\n",
    "\n",
    "    print(\"x_train:\", type(x_train))\n",
    "    print(\"y_train:\", type(y_train))\n",
    "    ## Define your model and training \n",
    "    ada_30est = AdaBoost(n_estimators=32)\n",
    "    ada_30est.fit(x_data=x_train, y_data=y_train)\n",
    "    return ada_30est"
   ]
  },
  {
   "cell_type": "code",
   "execution_count": 358,
   "metadata": {},
   "outputs": [
    {
     "name": "stdout",
     "output_type": "stream",
     "text": [
      "x_train: <class 'numpy.ndarray'>\n",
      "y_train: <class 'numpy.ndarray'>\n"
     ]
    }
   ],
   "source": [
    "my_model = train_your_model(train_df)"
   ]
  },
  {
   "cell_type": "code",
   "execution_count": 359,
   "metadata": {},
   "outputs": [
    {
     "name": "stdout",
     "output_type": "stream",
     "text": [
      "my model accuracy_score: 0.9766666666666667\n"
     ]
    }
   ],
   "source": [
    "y_pred = my_model.predict(x_test)\n",
    "print(f'my model accuracy_score: {accuracy_score(y_test, y_pred)}')\n",
    "# y_pred = my_model.predict(x_test_q6)\n",
    "# print(f'my model accuracy_score: {accuracy_score(y_test, y_pred)}')"
   ]
  },
  {
   "cell_type": "code",
   "execution_count": 360,
   "metadata": {},
   "outputs": [],
   "source": [
    "assert y_pred.shape == (500, )"
   ]
  },
  {
   "cell_type": "markdown",
   "metadata": {},
   "source": [
    "## Supplementary\n",
    "If you have trouble to implement this homework, TA strongly recommend watching [this video](https://www.youtube.com/watch?v=LDRbO9a6XPU), which explains Decision Tree model clearly. But don't copy code from any resources, try to finish this homework by yourself! "
   ]
  },
  {
   "cell_type": "markdown",
   "metadata": {},
   "source": [
    "### DO NOT MODIFY CODE BELOW"
   ]
  },
  {
   "cell_type": "code",
   "execution_count": 361,
   "metadata": {},
   "outputs": [],
   "source": [
    "import pandas as pd\n",
    "from sklearn.metrics import accuracy_score\n",
    "\n",
    "y_test = pd.read_csv('y_test.csv')['price_range'].values\n",
    "\n",
    "print('Test-set accuarcy score: ', accuracy_score(y_test, y_pred))"
   ]
  },
  {
   "cell_type": "code",
   "execution_count": null,
   "metadata": {},
   "outputs": [],
   "source": []
  },
  {
   "cell_type": "code",
   "execution_count": 362,
   "metadata": {},
   "outputs": [
    {
     "name": "stdout",
     "output_type": "stream",
     "text": [
      "*** We will check your result for Question 3 manually *** (5 points)\n",
      "*** We will check your result for Question 6 manually *** (20 points)\n",
      "Approximate score range: 45.0 ~ 70.0\n",
      "*** This score is only for reference ***\n"
     ]
    }
   ],
   "source": [
    "def discrete_checker(score, thres, clf, name, x_train, y_train, x_test, y_test):\n",
    "    clf.fit(x_train, y_train)\n",
    "    y_pred = clf.predict(x_test)\n",
    "    if accuracy_score(y_test, y_pred) - thres >= 0:\n",
    "        return score\n",
    "    else:\n",
    "        print(f\"{name} failed\")\n",
    "        return 0\n",
    "\n",
    "\n",
    "def patient_checker(score, thres, CLS, kwargs, name,\n",
    "                    x_train, y_train, x_test, y_test, patient=10):\n",
    "    while patient > 0:\n",
    "        patient -= 1\n",
    "        clf = CLS(**kwargs)\n",
    "        clf.fit(x_train, y_train)\n",
    "        y_pred = clf.predict(x_test)\n",
    "        if accuracy_score(y_test, y_pred) - thres >= 0:\n",
    "            return score\n",
    "    print(f\"{name} failed\")\n",
    "    print(\"Considering the randomness, we will check it manually\")\n",
    "    return 0\n",
    "\n",
    "\n",
    "def load_dataset():\n",
    "    file_url = \"http://storage.googleapis.com/download.tensorflow.org/data/abalone_train.csv\"\n",
    "    df = pd.read_csv(\n",
    "        file_url,\n",
    "        names=[\"Length\", \"Diameter\", \"Height\", \"Whole weight\", \"Shucked weight\",\n",
    "               \"Viscera weight\", \"Shell weight\", \"Age\"]\n",
    "    )\n",
    "\n",
    "    df['Target'] = (df[\"Age\"] > 15).astype(int)\n",
    "    df = df.drop(labels=[\"Age\"], axis=\"columns\")\n",
    "\n",
    "    train_idx = range(0, len(df), 10)\n",
    "    test_idx = range(1, len(df), 20)\n",
    "\n",
    "    train_df = df.iloc[train_idx]\n",
    "    test_df = df.iloc[test_idx]\n",
    "\n",
    "    x_train = train_df.drop(labels=[\"Target\"], axis=\"columns\")\n",
    "    feature_names = x_train.columns.values\n",
    "    x_train = x_train.values\n",
    "    y_train = train_df['Target'].values\n",
    "\n",
    "    x_test = test_df.drop(labels=[\"Target\"], axis=\"columns\")\n",
    "    x_test = x_test.values\n",
    "    y_test = test_df['Target'].values\n",
    "    return x_train, y_train, x_test, y_test, feature_names\n",
    "\n",
    "\n",
    "score = 0\n",
    "\n",
    "data = np.array([1, 2])\n",
    "if abs(gini(data) - 0.5) < 1e-4:\n",
    "    score += 2.5\n",
    "else:\n",
    "    print(\"gini test failed\")\n",
    "\n",
    "if abs(entropy(data) - 1) < 1e-4:\n",
    "    score += 2.5\n",
    "else:\n",
    "    print(\"entropy test failed\")\n",
    "\n",
    "x_train, y_train, x_test, y_test, feature_names = load_dataset()\n",
    "\n",
    "score += discrete_checker(5, 0.9337,\n",
    "                          DecisionTree(criterion='gini', max_depth=3),\n",
    "                          \"DecisionTree(criterion='gini', max_depth=3)\",\n",
    "                          x_train, y_train, x_test, y_test\n",
    "                          )\n",
    "\n",
    "score += discrete_checker(2.5, 0.9036,\n",
    "                          DecisionTree(criterion='gini', max_depth=10),\n",
    "                          \"DecisionTree(criterion='gini', max_depth=10)\",\n",
    "                          x_train, y_train, x_test, y_test\n",
    "                          )\n",
    "\n",
    "score += discrete_checker(2.5, 0.9096,\n",
    "                          DecisionTree(criterion='entropy', max_depth=3),\n",
    "                          \"DecisionTree(criterion='entropy', max_depth=3)\",\n",
    "                          x_train, y_train, x_test, y_test\n",
    "                          )\n",
    "\n",
    "print(\"*** We will check your result for Question 3 manually *** (5 points)\")\n",
    "\n",
    "score += patient_checker(\n",
    "    7.5, 0.91, AdaBoost, {\"n_estimators\": 10},\n",
    "    \"AdaBoost(n_estimators=10)\",\n",
    "    x_train, y_train, x_test, y_test\n",
    ")\n",
    "\n",
    "score += patient_checker(\n",
    "    7.5, 0.87, AdaBoost, {\"n_estimators\": 100},\n",
    "    \"AdaBoost(n_estimators=100)\",\n",
    "    x_train, y_train, x_test, y_test\n",
    ")\n",
    "\n",
    "score += patient_checker(\n",
    "    5, 0.91, RandomForest,\n",
    "    {\"n_estimators\": 10, \"max_features\": np.sqrt(x_train.shape[1])},\n",
    "    \"RandomForest(n_estimators=10, max_features=sqrt(n_features))\",\n",
    "    x_train, y_train, x_test, y_test\n",
    ")\n",
    "\n",
    "score += patient_checker(\n",
    "    5, 0.91, RandomForest,\n",
    "    {\"n_estimators\": 100, \"max_features\": np.sqrt(x_train.shape[1])},\n",
    "    \"RandomForest(n_estimators=100, max_features=sqrt(n_features))\",\n",
    "    x_train, y_train, x_test, y_test\n",
    ")\n",
    "\n",
    "score += patient_checker(\n",
    "    5, 0.92, RandomForest,\n",
    "    {\"n_estimators\": 10, \"max_features\": x_train.shape[1]},\n",
    "    \"RandomForest(n_estimators=10, max_features=n_features)\",\n",
    "    x_train, y_train, x_test, y_test\n",
    ")\n",
    "\n",
    "print(\"*** We will check your result for Question 6 manually *** (20 points)\")\n",
    "print(\"Approximate score range:\", score, \"~\", score + 25)\n",
    "print(\"*** This score is only for reference ***\")\n"
   ]
  }
 ],
 "metadata": {
  "kernelspec": {
   "display_name": "Python 3.10.8 64-bit (microsoft store)",
   "language": "python",
   "name": "python3"
  },
  "language_info": {
   "codemirror_mode": {
    "name": "ipython",
    "version": 3
   },
   "file_extension": ".py",
   "mimetype": "text/x-python",
   "name": "python",
   "nbconvert_exporter": "python",
   "pygments_lexer": "ipython3",
   "version": "3.10.8"
  },
  "vscode": {
   "interpreter": {
    "hash": "8a85b7bf7c779ed67bccf8ae1048f09ef25809d9114b21b047a7bffa30bad8e0"
   }
  }
 },
 "nbformat": 4,
 "nbformat_minor": 4
}
