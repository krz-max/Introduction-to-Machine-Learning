{
 "cells": [
  {
   "cell_type": "markdown",
   "id": "7e9d7a23",
   "metadata": {
    "id": "7e9d7a23"
   },
   "source": [
    "# HW1: Logistic regression and Linear Regression using Gradient Descent\n",
    "In hw1, you need to implement linear regression by using only numpy, then train your implemented model by the provided dataset and test the performance with testing data\n",
    "\n",
    "Please note that only NUMPY can be used to implement your model, you will get no points by simply calling sklearn.linear_model.LinearRegression"
   ]
  },
  {
   "cell_type": "code",
   "execution_count": 2,
   "id": "05dec716",
   "metadata": {
    "id": "05dec716"
   },
   "outputs": [],
   "source": [
    "import matplotlib.pyplot as plt\n",
    "import numpy as np\n",
    "import pandas as pd"
   ]
  },
  {
   "cell_type": "markdown",
   "id": "247f8bd9",
   "metadata": {
    "id": "247f8bd9"
   },
   "source": [
    "## Part 1. Linear regression model\n",
    "### Load regression data"
   ]
  },
  {
   "cell_type": "code",
   "execution_count": 4,
   "id": "8a49265d",
   "metadata": {
    "id": "8a49265d"
   },
   "outputs": [],
   "source": [
    "x_train, x_test, y_train, y_test = np.load('regression_data.npy', allow_pickle=True)"
   ]
  },
  {
   "cell_type": "code",
   "execution_count": 5,
   "id": "ff42b07a",
   "metadata": {},
   "outputs": [
    {
     "name": "stdout",
     "output_type": "stream",
     "text": [
      "(750, 1) (250, 1) (750,) (250,)\n"
     ]
    }
   ],
   "source": [
    "print(x_train.shape, x_test.shape, y_train.shape, y_test.shape)"
   ]
  },
  {
   "cell_type": "code",
   "execution_count": null,
   "id": "f973fcc2",
   "metadata": {
    "id": "f973fcc2",
    "outputId": "f0213297-9dd3-49dd-e713-2139f87a0864"
   },
   "outputs": [
    {
     "name": "stdout",
     "output_type": "stream",
     "text": [
      "(750,)\n"
     ]
    },
    {
     "data": {
      "image/png": "[encoded data removed]",
      "text/plain": [
       "<Figure size 432x288 with 1 Axes>"
      ]
     },
     "metadata": {
      "needs_background": "light"
     },
     "output_type": "display_data"
    }
   ],
   "source": [
    "y_train = y_train.reshape((750, )) # the shape of y_train is different from that of x_train, need to reshape\n",
    "y_test = y_test.reshape((250, ))   # the shape of y_test is different from that of x_test, need to reshape\n",
    "plt.plot(x_train, y_train, '.')"
   ]
  },
  {
   "cell_type": "markdown",
   "id": "b99c1584",
   "metadata": {
    "id": "b99c1584"
   },
   "source": [
    "### Train your model\n",
    "#### Pseudo code:\n",
    "    1. Random initialize the weights, intercepts of the linear model\n",
    "**for i in range(iteration)**\n",
    "\n",
    "    2. Feed foward the training data into the model, get the output prediction\n",
    "    3. Calculating training loss by Mean Square Error of predcition and ground truth data\n",
    "    4. Calculating the gradients\n",
    "    5. Updating the weights and intercepts by the gradients * learning rate \n",
    "\n",
    "**End of training**"
   ]
  },
  {
   "cell_type": "code",
   "execution_count": 7,
   "id": "3ed67f03",
   "metadata": {},
   "outputs": [
    {
     "name": "stdout",
     "output_type": "stream",
     "text": [
      "(2,)\n",
      "[0.75694799 1.47012861]\n"
     ]
    }
   ],
   "source": [
    "weight = np.random.randn(2)\n",
    "print(weight.shape)\n",
    "print(weight)"
   ]
  },
  {
   "cell_type": "code",
   "execution_count": 13,
   "id": "9b695fe9",
   "metadata": {
    "id": "9b695fe9"
   },
   "outputs": [],
   "source": [
    "def linear_regression_train(x_train, y_train):\n",
    "    \n",
    "    # assume y = mx + b\n",
    "    # weight[0] = m, weight[1] = b, use random to initialize\n",
    "    # ************************************************************\n",
    "    weight = np.random.randn(2)\n",
    "    \n",
    "    iterations = 3000 # number of iterations\n",
    "    lr = 1e-3 # learning rate\n",
    "    \n",
    "    # declare loss for each iteration, set original value to zeros\n",
    "    loss = np.zeros((iterations, ))\n",
    "    \n",
    "    # start iterations\n",
    "    for i in range (iterations):\n",
    "        \n",
    "        # y = mx + b\n",
    "        # caculate predicted value\n",
    "        y_pred = weight[0] * x_train + weight[1]\n",
    "\n",
    "        # calculate loss\n",
    "        # loss function: (1/2) * mean ((actual_data - predicted_result)**2)\n",
    "        loss[i] = (1/2) * np.mean((y_train - y_pred)**2)\n",
    "        \n",
    "        # update weight using gradient descent\n",
    "        # loss function: (1/2) * mean((actual_data - predicted_result)**2)\n",
    "        \n",
    "        # gradient of m: mean((m*x + b - y) * x)\n",
    "        tmp = y_pred - y_train\n",
    "        m_gradient = (tmp * x_train).mean()\n",
    "        \n",
    "        # gradient of b: mean(m*x + b - y)\n",
    "        b_gradient = tmp.mean()\n",
    "        \n",
    "        # update m and b\n",
    "        weight[0] += -lr * m_gradient\n",
    "        weight[1] += -lr * b_gradient\n",
    "        \n",
    "    return weight, loss\n",
    "\n",
    "# train and get m, b, loss for prediction and evaluation\n",
    "weight, loss = linear_regression_train(x_train, y_train)"
   ]
  },
  {
   "cell_type": "markdown",
   "id": "9d8d9b02",
   "metadata": {
    "id": "9d8d9b02"
   },
   "source": [
    "### Test the performance on the testing data\n",
    "Inference the test data (x_test) by your model and calculate the loss of (y_test, y_pred)"
   ]
  },
  {
   "cell_type": "code",
   "execution_count": 14,
   "id": "085f415a",
   "metadata": {
    "id": "085f415a"
   },
   "outputs": [],
   "source": [
    "# caculate the predicted result for test\n",
    "y_pred = weight[0]*x_test + weight[1]"
   ]
  },
  {
   "cell_type": "code",
   "execution_count": 15,
   "id": "f9ea0637",
   "metadata": {
    "id": "f9ea0637"
   },
   "outputs": [],
   "source": [
    "# visualize the learning curve with loss data\n",
    "def learning_curve_fig(loss):\n",
    "    plt.title(\"training loss\")\n",
    "    plt.xlabel(\"iteration\")\n",
    "    plt.ylabel(\"loss\")\n",
    "    plt.plot(loss, linewidth=4, color='red')\n",
    "    plt.show()"
   ]
  },
  {
   "cell_type": "code",
   "execution_count": 16,
   "id": "f8e2905a",
   "metadata": {
    "id": "f8e2905a",
    "outputId": "a9b8bbaf-50ef-4d76-8c45-ba99e1b3815c"
   },
   "outputs": [
    {
     "data": {
      "image/png": "[encoded data removed]",
      "text/plain": [
       "<Figure size 640x480 with 1 Axes>"
      ]
     },
     "metadata": {},
     "output_type": "display_data"
    },
    {
     "name": "stdout",
     "output_type": "stream",
     "text": [
      "MSE: 1424.4741911157366\n",
      "weights(m): -0.061896657280009086\n",
      "intercepts(b): -1.3499093735635308\n"
     ]
    }
   ],
   "source": [
    "# plot the learning curve of the training\n",
    "learning_curve_fig(loss)\n",
    "\n",
    "# mean Square Error of my prediction and ground truth\n",
    "mse = (1/2) * np.mean((y_pred - y_test)**2)\n",
    "print(f'MSE: {mse}')\n",
    "      \n",
    "# weights and intercepts of my linear model\n",
    "print(f'weights(m): {weight[0]}')\n",
    "print(f'intercepts(b): {weight[1]}')"
   ]
  },
  {
   "cell_type": "markdown",
   "id": "19cc1a46",
   "metadata": {
    "id": "19cc1a46"
   },
   "source": [
    "## Part 2. Logistic regression model\n",
    "### Load regression data"
   ]
  },
  {
   "cell_type": "code",
   "execution_count": 30,
   "id": "9f286024",
   "metadata": {
    "id": "9f286024"
   },
   "outputs": [],
   "source": [
    "x_train, x_test, y_train, y_test = np.load('classification_data.npy', allow_pickle=True)"
   ]
  },
  {
   "cell_type": "code",
   "execution_count": 31,
   "id": "eb54fcfd",
   "metadata": {
    "id": "eb54fcfd",
    "outputId": "6a022e1a-39f5-4ae5-dc43-4edbb9848386"
   },
   "outputs": [
    {
     "data": {
      "text/plain": [
       "<matplotlib.collections.PathCollection at 0x237674211f0>"
      ]
     },
     "execution_count": 31,
     "metadata": {},
     "output_type": "execute_result"
    },
    {
     "data": {
      "image/png": "[encoded data removed]",
      "text/plain": [
       "<Figure size 432x288 with 1 Axes>"
      ]
     },
     "metadata": {
      "needs_background": "light"
     },
     "output_type": "display_data"
    }
   ],
   "source": [
    "plt.scatter(x_train, np.ones_like(x_train), c=y_train)"
   ]
  },
  {
   "cell_type": "code",
   "execution_count": 32,
   "id": "42758d93",
   "metadata": {
    "id": "42758d93"
   },
   "outputs": [],
   "source": [
    "# reshape data into proper dimensions\n",
    "# dimensions: W is n*1, X is n*m, Y is 1*m\n",
    "# n is # of features, m is # of observations\n",
    "\n",
    "x_train = x_train.T # x_train: 750*1 ->  1*750\n",
    "y_train = y_train.reshape(1, x_train.shape[1]) # y_train: (750, ) -> 1*750\n",
    "x_test = x_test.T # x_test: 250*1 ->  1*250\n",
    "y_test = y_test.reshape(1, x_test.shape[1]) # y_test: (250, ) -> 1*250"
   ]
  },
  {
   "cell_type": "code",
   "execution_count": 33,
   "id": "d65e9f60",
   "metadata": {
    "id": "d65e9f60"
   },
   "outputs": [],
   "source": [
    "def sigmoid(x):\n",
    "    return 1/(1 + np.exp(-x))"
   ]
  },
  {
   "cell_type": "code",
   "execution_count": 34,
   "id": "79a6d3ff",
   "metadata": {
    "id": "79a6d3ff"
   },
   "outputs": [],
   "source": [
    "def logistic_regression_train(x_train, y_train):\n",
    "    \n",
    "    # assume y = sigmoid(W·X + B)\n",
    "    # dimensions: W is n*1, X is n*m, Y is 1*m\n",
    "    # we need to find W and B, assume W is a zero matrix, and B is 0\n",
    "    # ************************************************************\n",
    "    n = x_train.shape[0] # number of features\n",
    "    m = x_train.shape[1] # number of observations\n",
    "    \n",
    "    W = np.zeros((n, 1)) # an n*1 matrix\n",
    "    B = 0\n",
    "    \n",
    "    iterations = 1000 # number of iterations\n",
    "    lr = 0.0005 # learning rate\n",
    "    \n",
    "    # declare loss for each iteration, set original value to zeros\n",
    "    loss = np.zeros((iterations, ))\n",
    "    \n",
    "    # start iterations\n",
    "    for i in range (iterations):\n",
    "        \n",
    "        \n",
    "        # caculate predicted value\n",
    "        # y = sigmoid(W·X + B)\n",
    "        # W is n*1, X is n*m, Y is 1*m\n",
    "        z = np.dot(W.T, x_train) + B # Z = W·X + B\n",
    "        y_pred = sigmoid(z) # y = sigmoid(Z)\n",
    "      \n",
    "        # calculate loss by Cross Entropy Error\n",
    "        # loss function: (-1/m)*(y_train * log(y_pred) + (1 - y_train)*log(1 - y_pred))\n",
    "        loss[i] = -1*np.mean(y_train * np.log(y_pred) + (1 - y_train) * np.log(1 - y_pred))\n",
    "        \n",
    "\n",
    "        # update W and B using Gradient Descent\n",
    "        # W is n*1, X is n*m, Y is 1*m\n",
    "        # gradient of W: (1/m)*((y_pred - y_train)·x_train.Transpose)\n",
    "        dW = np.mean(np.dot((y_pred - y_train), x_train.T))\n",
    "        # gradient of B: (1/m)*(sum(y_pred - y_train))\n",
    "        dB = np.mean(np.sum(y_pred - y_train))\n",
    "        \n",
    "        # update W and B\n",
    "        W += -lr * dW.T\n",
    "        B += -lr * dB\n",
    "        \n",
    "    return W, B, loss\n",
    "\n",
    "# train and get W, B, loss for prediction and evaluation\n",
    "W, B, loss = logistic_regression_train(x_train, y_train)"
   ]
  },
  {
   "cell_type": "code",
   "execution_count": 35,
   "id": "5f7aa38e",
   "metadata": {
    "id": "5f7aa38e"
   },
   "outputs": [],
   "source": [
    "# caculate the predicted result for test data\n",
    "Z = np.dot(W.T, x_test) + B\n",
    "y_pred = sigmoid(Z)"
   ]
  },
  {
   "cell_type": "code",
   "execution_count": 36,
   "id": "9da91a10",
   "metadata": {
    "id": "9da91a10"
   },
   "outputs": [],
   "source": [
    "# visualize the learning curve with loss data\n",
    "def learning_curve_fig(loss):\n",
    "    plt.title(\"training loss\")\n",
    "    plt.xlabel(\"iteration\")\n",
    "    plt.ylabel(\"loss\")\n",
    "    plt.plot(loss, linewidth=4, color='red')\n",
    "    plt.show()"
   ]
  },
  {
   "cell_type": "code",
   "execution_count": 37,
   "id": "2982ed02",
   "metadata": {
    "id": "2982ed02",
    "outputId": "3317ee85-15d9-4330-bff8-bde1c5c15907"
   },
   "outputs": [
    {
     "data": {
      "image/png": "[encoded data removed]",
      "text/plain": [
       "<Figure size 432x288 with 1 Axes>"
      ]
     },
     "metadata": {
      "needs_background": "light"
     },
     "output_type": "display_data"
    },
    {
     "name": "stdout",
     "output_type": "stream",
     "text": [
      "CEE: 0.18690431570340407\n",
      "weights(W): [[4.71934749]]\n",
      "intercepts(B): 1.6157019268841606\n"
     ]
    }
   ],
   "source": [
    "# plot the learning curve of the training\n",
    "learning_curve_fig(loss)\n",
    "\n",
    "# cross entropy error of my prediction and ground truth\n",
    "CEE = -1*np.mean(y_test * np.log(y_pred) + (1 - y_test) * np.log(1 - y_pred))\n",
    "print(f'CEE: {CEE}')\n",
    "\n",
    "# weights and intercepts of my logistic regression model\n",
    "print(f'weights(W): {W}')\n",
    "print(f'intercepts(B): {B}')"
   ]
  },
  {
   "cell_type": "code",
   "execution_count": null,
   "id": "700bf231",
   "metadata": {
    "id": "700bf231",
    "outputId": "89499488-18d9-4c12-f4b2-aa8f439e8ce8"
   },
   "outputs": [
    {
     "name": "stdout",
     "output_type": "stream",
     "text": [
      "Accuracy of the model is : 96.0 %\n"
     ]
    }
   ],
   "source": [
    "\"\"\" testing the accuracy of the model\n",
    "def accuracy(x, y, w, b):\n",
    "    \n",
    "    z = np.dot(w.T, x) + b\n",
    "    y_pred = sigmoid(z)\n",
    "    \n",
    "    y_pred = y_pred > 0.5\n",
    "    \n",
    "    y_pred = np.array(y_pred, dtype = 'int64')\n",
    "    \n",
    "    acc = (1 - np.sum(np.absolute(y_pred - y))/y.shape[1])*100\n",
    "    print(\"Accuracy of the model is :\", acc, \"%\")\n",
    "\n",
    "accuracy(x_test, y_test, w, b)\n",
    "\"\"\""
   ]
  }
 ],
 "metadata": {
  "colab": {
   "provenance": []
  },
  "kernelspec": {
   "display_name": "Python 3.10.0 64-bit",
   "language": "python",
   "name": "python3"
  },
  "language_info": {
   "codemirror_mode": {
    "name": "ipython",
    "version": 3
   },
   "file_extension": ".py",
   "mimetype": "text/x-python",
   "name": "python",
   "nbconvert_exporter": "python",
   "pygments_lexer": "ipython3",
   "version": "3.10.0"
  },
  "vscode": {
   "interpreter": {
    "hash": "369f2c481f4da34e4445cda3fffd2e751bd1c4d706f27375911949ba6bb62e1c"
   }
  }
 },
 "nbformat": 4,
 "nbformat_minor": 5
}
