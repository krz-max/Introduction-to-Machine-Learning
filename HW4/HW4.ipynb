{
 "cells": [
  {
   "cell_type": "code",
   "execution_count": 14,
   "metadata": {},
   "outputs": [],
   "source": [
    "import matplotlib.pyplot as plt\n",
    "import numpy as np\n",
    "import pandas as pd\n",
    "from sklearn.metrics import accuracy_score\n",
    "from sklearn.svm import SVC, SVR"
   ]
  },
  {
   "cell_type": "markdown",
   "metadata": {},
   "source": [
    "## Load data"
   ]
  },
  {
   "cell_type": "code",
   "execution_count": 15,
   "metadata": {},
   "outputs": [],
   "source": [
    "x_train = np.load(\"x_train.npy\")\n",
    "y_train = np.load(\"y_train.npy\")\n",
    "x_test = np.load(\"x_test.npy\")\n",
    "# y_test = np.load(\"y_test.npy\")"
   ]
  },
  {
   "cell_type": "code",
   "execution_count": 16,
   "metadata": {},
   "outputs": [
    {
     "name": "stdout",
     "output_type": "stream",
     "text": [
      "(7000, 300)\n",
      "(7000,)\n"
     ]
    }
   ],
   "source": [
    "# 7000 data with 300 features\n",
    "print(x_train.shape)\n",
    "print(y_train.shape)"
   ]
  },
  {
   "cell_type": "code",
   "execution_count": 17,
   "metadata": {},
   "outputs": [
    {
     "name": "stdout",
     "output_type": "stream",
     "text": [
      "[0 1]\n"
     ]
    }
   ],
   "source": [
    "# It's a binary classification problem \n",
    "print(np.unique(y_train))"
   ]
  },
  {
   "cell_type": "code",
   "execution_count": 18,
   "metadata": {},
   "outputs": [
    {
     "name": "stdout",
     "output_type": "stream",
     "text": [
      "[2 4 1 0 3]\n",
      "(7000, 300)\n",
      "[[3 8 4]\n",
      " [6 2 1]\n",
      " [7 0 5]]\n",
      "10\n"
     ]
    }
   ],
   "source": [
    "# Function test\n",
    "rng = np.random.default_rng()\n",
    "print(rng.choice(5, 5, replace=False))\n",
    "print(rng.choice(x_train, x_train.shape[0], replace=False).shape)\n",
    "test = rng.choice(9, size=(3,3), replace=False)\n",
    "print(test)\n",
    "rng.permutation(test)\n",
    "print(100//10)\n",
    "xs = [22, 13, 45, 50, 98, 69, 43, 44, 1]\n",
    "test = [x+1 if x >= 45 else x+5 for x in xs]"
   ]
  },
  {
   "cell_type": "markdown",
   "metadata": {},
   "source": [
    "## Question 1\n",
    "K-fold data partition: Implement the K-fold cross-validation function. Your function should take K as an argument and return a list of lists (len(list) should equal to K), which contains K elements. Each element is a list contains two parts, the first part contains the index of all training folds, e.g. Fold 2 to Fold 5 in split 1. The second part contains the index of validation fold, e.g. Fold 1 in  split 1"
   ]
  },
  {
   "cell_type": "code",
   "execution_count": 26,
   "metadata": {},
   "outputs": [],
   "source": [
    "rng = np.random.default_rng()\n",
    "def cross_validation(x_train, y_train, k=5):\n",
    "    # shuffle the data\n",
    "    shuf_idx = rng.permutation(x_train.shape[0])\n",
    "    print(np.unique(shuf_idx).shape)\n",
    "    # find the size of each fold\n",
    "    all_size = np.array([(x_train.shape[0] // k) + 1 if i < x_train.shape[0] % k else x_train.shape[0] // k for i in range(k)])\n",
    "    all_split = []\n",
    "    for i in range(k):\n",
    "        val_idx   = shuf_idx[np.sum(all_size[0:i]):np.sum(all_size[0:(i+1)])]\n",
    "        mask = np.isin(shuf_idx, val_idx, invert=True)\n",
    "        # print(mask.shape)\n",
    "        train_idx = shuf_idx[mask]\n",
    "        all_split.append([])\n",
    "        all_split[i].append(train_idx)\n",
    "        all_split[i].append(val_idx)\n",
    "    return all_split"
   ]
  },
  {
   "cell_type": "code",
   "execution_count": 28,
   "metadata": {},
   "outputs": [
    {
     "name": "stdout",
     "output_type": "stream",
     "text": [
      "(7000,)\n",
      "[[array([5648, 4496, 4712, ..., 5342,  735,  747]), array([6158, 5815, 1972, ..., 5949, 4648, 1816])], [array([6158, 5815, 1972, ..., 5342,  735,  747]), array([5648, 4496, 4712, ...,  923, 2338, 6485])], [array([6158, 5815, 1972, ..., 5342,  735,  747]), array([ 894, 3451, 4416, ..., 4815, 2467, 4263])], [array([6158, 5815, 1972, ..., 5342,  735,  747]), array([ 221, 4623, 2661, ..., 1793, 3267, 5151])], [array([6158, 5815, 1972, ..., 1793, 3267, 5151]), array([ 982, 6956, 1812, ..., 5342,  735,  747])]]\n",
      "Split: 1, Training index: 5600, Validation index: 1400\n",
      "True\n",
      "Split: 2, Training index: 5600, Validation index: 1400\n",
      "True\n",
      "Split: 3, Training index: 5600, Validation index: 1400\n",
      "True\n",
      "Split: 4, Training index: 5600, Validation index: 1400\n",
      "True\n",
      "Split: 5, Training index: 5600, Validation index: 1400\n",
      "True\n"
     ]
    }
   ],
   "source": [
    "kfold_data = cross_validation(x_train, y_train, k=5)\n",
    "print(kfold_data)\n",
    "for i, (train_index, val_index) in enumerate(kfold_data):\n",
    "    print(\"Split: %s, Training index: %s, Validation index: %s\" % (i+1, len(train_index), len(val_index)))\n",
    "assert len(kfold_data) == 5 # should contain 10 fold of data\n",
    "assert len(kfold_data[0]) == 2 # each element should contain train fold and validation fold\n",
    "assert kfold_data[0][1].shape[0] == 1400 # The number of data in each validation fold should equal to training data divieded by K"
   ]
  },
  {
   "cell_type": "markdown",
   "metadata": {},
   "source": [
    "## example"
   ]
  },
  {
   "cell_type": "code",
   "execution_count": 9,
   "metadata": {},
   "outputs": [
    {
     "name": "stdout",
     "output_type": "stream",
     "text": [
      "<generator object _BaseKFold.split at 0x0000021FA2AC13F0>\n",
      "Split: 1, Training index: [ 1  2  3  4  5  6  7  8 10 11 12 13 14 15 16 19], Validation index: [ 0  9 17 18]\n",
      "Split: 2, Training index: [ 0  2  3  4  5  6  7  8  9 10 11 14 15 16 17 18], Validation index: [ 1 12 13 19]\n",
      "Split: 3, Training index: [ 0  1  3  4  5  6  7  8  9 10 11 12 13 17 18 19], Validation index: [ 2 14 15 16]\n",
      "Split: 4, Training index: [ 0  1  2  3  5  8  9 10 12 13 14 15 16 17 18 19], Validation index: [ 4  6  7 11]\n",
      "Split: 5, Training index: [ 0  1  2  4  6  7  9 11 12 13 14 15 16 17 18 19], Validation index: [ 3  5  8 10]\n"
     ]
    }
   ],
   "source": [
    "from sklearn.model_selection import KFold\n",
    "\n",
    "X = np.arange(20)\n",
    "kf = KFold(n_splits=5, shuffle=True)\n",
    "kfold_data= []\n",
    "for i, (train_index, val_index) in enumerate(kf.split(X)):\n",
    "    print(\"Split: %s, Training index: %s, Validation index: %s\" % (i+1, train_index, val_index))\n",
    "    kfold_data.append([train_index, val_index])"
   ]
  },
  {
   "cell_type": "code",
   "execution_count": 10,
   "metadata": {},
   "outputs": [],
   "source": [
    "assert len(kfold_data) == 5 # should contain 5 fold of data\n",
    "assert len(kfold_data[0]) == 2 # each element should contains index of training fold and validation fold\n",
    "assert kfold_data[0][1].shape[0] == 4 # The number of data in each validation fold should equal to training data divieded by K"
   ]
  },
  {
   "cell_type": "markdown",
   "metadata": {},
   "source": [
    "## Question 2\n",
    "Using sklearn.svm.SVC to train a classifier on the provided train set and conduct the grid search of “C” and “gamma” to find the best parameters by cross-validation."
   ]
  },
  {
   "cell_type": "code",
   "execution_count": 23,
   "metadata": {},
   "outputs": [],
   "source": [
    "clf = SVC(C=1.0, kernel='rbf', gamma=0.01)"
   ]
  },
  {
   "cell_type": "code",
   "execution_count": 29,
   "metadata": {},
   "outputs": [
    {
     "name": "stdout",
     "output_type": "stream",
     "text": [
      "[[array([5648, 4496, 4712, ..., 5342,  735,  747]), array([6158, 5815, 1972, ..., 5949, 4648, 1816])], [array([6158, 5815, 1972, ..., 5342,  735,  747]), array([5648, 4496, 4712, ...,  923, 2338, 6485])], [array([6158, 5815, 1972, ..., 5342,  735,  747]), array([ 894, 3451, 4416, ..., 4815, 2467, 4263])], [array([6158, 5815, 1972, ..., 5342,  735,  747]), array([ 221, 4623, 2661, ..., 1793, 3267, 5151])], [array([6158, 5815, 1972, ..., 1793, 3267, 5151]), array([ 982, 6956, 1812, ..., 5342,  735,  747])]]\n",
      "[5648 4496 4712 ... 5342  735  747]\n",
      "[6158 5815 1972 ... 5949 4648 1816]\n",
      "0.4742857142857143\n",
      "[6158 5815 1972 ... 5342  735  747]\n",
      "[5648 4496 4712 ...  923 2338 6485]\n"
     ]
    },
    {
     "ename": "KeyboardInterrupt",
     "evalue": "",
     "output_type": "error",
     "traceback": [
      "\u001b[1;31m---------------------------------------------------------------------------\u001b[0m",
      "\u001b[1;31mKeyboardInterrupt\u001b[0m                         Traceback (most recent call last)",
      "Cell \u001b[1;32mIn [29], line 24\u001b[0m\n\u001b[0;32m     22\u001b[0m x_train_t \u001b[38;5;241m=\u001b[39m x_train[train_index]\n\u001b[0;32m     23\u001b[0m y_train_t \u001b[38;5;241m=\u001b[39m y_train[train_index]\n\u001b[1;32m---> 24\u001b[0m \u001b[43mclf\u001b[49m\u001b[38;5;241;43m.\u001b[39;49m\u001b[43mfit\u001b[49m\u001b[43m(\u001b[49m\u001b[43mx_train_t\u001b[49m\u001b[43m,\u001b[49m\u001b[43m \u001b[49m\u001b[43my_train_t\u001b[49m\u001b[43m)\u001b[49m\n\u001b[0;32m     25\u001b[0m x_test_t \u001b[38;5;241m=\u001b[39m x_train[val_index]\n\u001b[0;32m     26\u001b[0m y_test_t \u001b[38;5;241m=\u001b[39m y_train[val_index]\n",
      "File \u001b[1;32m~\\AppData\\Local\\Packages\\PythonSoftwareFoundation.Python.3.10_qbz5n2kfra8p0\\LocalCache\\local-packages\\Python310\\site-packages\\sklearn\\svm\\_base.py:251\u001b[0m, in \u001b[0;36mBaseLibSVM.fit\u001b[1;34m(self, X, y, sample_weight)\u001b[0m\n\u001b[0;32m    248\u001b[0m     \u001b[39mprint\u001b[39m(\u001b[39m\"\u001b[39m\u001b[39m[LibSVM]\u001b[39m\u001b[39m\"\u001b[39m, end\u001b[39m=\u001b[39m\u001b[39m\"\u001b[39m\u001b[39m\"\u001b[39m)\n\u001b[0;32m    250\u001b[0m seed \u001b[39m=\u001b[39m rnd\u001b[39m.\u001b[39mrandint(np\u001b[39m.\u001b[39miinfo(\u001b[39m\"\u001b[39m\u001b[39mi\u001b[39m\u001b[39m\"\u001b[39m)\u001b[39m.\u001b[39mmax)\n\u001b[1;32m--> 251\u001b[0m fit(X, y, sample_weight, solver_type, kernel, random_seed\u001b[39m=\u001b[39;49mseed)\n\u001b[0;32m    252\u001b[0m \u001b[39m# see comment on the other call to np.iinfo in this file\u001b[39;00m\n\u001b[0;32m    254\u001b[0m \u001b[39mself\u001b[39m\u001b[39m.\u001b[39mshape_fit_ \u001b[39m=\u001b[39m X\u001b[39m.\u001b[39mshape \u001b[39mif\u001b[39;00m \u001b[39mhasattr\u001b[39m(X, \u001b[39m\"\u001b[39m\u001b[39mshape\u001b[39m\u001b[39m\"\u001b[39m) \u001b[39melse\u001b[39;00m (n_samples,)\n",
      "File \u001b[1;32m~\\AppData\\Local\\Packages\\PythonSoftwareFoundation.Python.3.10_qbz5n2kfra8p0\\LocalCache\\local-packages\\Python310\\site-packages\\sklearn\\svm\\_base.py:333\u001b[0m, in \u001b[0;36mBaseLibSVM._dense_fit\u001b[1;34m(self, X, y, sample_weight, solver_type, kernel, random_seed)\u001b[0m\n\u001b[0;32m    319\u001b[0m libsvm\u001b[39m.\u001b[39mset_verbosity_wrap(\u001b[39mself\u001b[39m\u001b[39m.\u001b[39mverbose)\n\u001b[0;32m    321\u001b[0m \u001b[39m# we don't pass **self.get_params() to allow subclasses to\u001b[39;00m\n\u001b[0;32m    322\u001b[0m \u001b[39m# add other parameters to __init__\u001b[39;00m\n\u001b[0;32m    323\u001b[0m (\n\u001b[0;32m    324\u001b[0m     \u001b[39mself\u001b[39m\u001b[39m.\u001b[39msupport_,\n\u001b[0;32m    325\u001b[0m     \u001b[39mself\u001b[39m\u001b[39m.\u001b[39msupport_vectors_,\n\u001b[0;32m    326\u001b[0m     \u001b[39mself\u001b[39m\u001b[39m.\u001b[39m_n_support,\n\u001b[0;32m    327\u001b[0m     \u001b[39mself\u001b[39m\u001b[39m.\u001b[39mdual_coef_,\n\u001b[0;32m    328\u001b[0m     \u001b[39mself\u001b[39m\u001b[39m.\u001b[39mintercept_,\n\u001b[0;32m    329\u001b[0m     \u001b[39mself\u001b[39m\u001b[39m.\u001b[39m_probA,\n\u001b[0;32m    330\u001b[0m     \u001b[39mself\u001b[39m\u001b[39m.\u001b[39m_probB,\n\u001b[0;32m    331\u001b[0m     \u001b[39mself\u001b[39m\u001b[39m.\u001b[39mfit_status_,\n\u001b[0;32m    332\u001b[0m     \u001b[39mself\u001b[39m\u001b[39m.\u001b[39m_num_iter,\n\u001b[1;32m--> 333\u001b[0m ) \u001b[39m=\u001b[39m libsvm\u001b[39m.\u001b[39;49mfit(\n\u001b[0;32m    334\u001b[0m     X,\n\u001b[0;32m    335\u001b[0m     y,\n\u001b[0;32m    336\u001b[0m     svm_type\u001b[39m=\u001b[39;49msolver_type,\n\u001b[0;32m    337\u001b[0m     sample_weight\u001b[39m=\u001b[39;49msample_weight,\n\u001b[0;32m    338\u001b[0m     class_weight\u001b[39m=\u001b[39;49m\u001b[39mself\u001b[39;49m\u001b[39m.\u001b[39;49mclass_weight_,\n\u001b[0;32m    339\u001b[0m     kernel\u001b[39m=\u001b[39;49mkernel,\n\u001b[0;32m    340\u001b[0m     C\u001b[39m=\u001b[39;49m\u001b[39mself\u001b[39;49m\u001b[39m.\u001b[39;49mC,\n\u001b[0;32m    341\u001b[0m     nu\u001b[39m=\u001b[39;49m\u001b[39mself\u001b[39;49m\u001b[39m.\u001b[39;49mnu,\n\u001b[0;32m    342\u001b[0m     probability\u001b[39m=\u001b[39;49m\u001b[39mself\u001b[39;49m\u001b[39m.\u001b[39;49mprobability,\n\u001b[0;32m    343\u001b[0m     degree\u001b[39m=\u001b[39;49m\u001b[39mself\u001b[39;49m\u001b[39m.\u001b[39;49mdegree,\n\u001b[0;32m    344\u001b[0m     shrinking\u001b[39m=\u001b[39;49m\u001b[39mself\u001b[39;49m\u001b[39m.\u001b[39;49mshrinking,\n\u001b[0;32m    345\u001b[0m     tol\u001b[39m=\u001b[39;49m\u001b[39mself\u001b[39;49m\u001b[39m.\u001b[39;49mtol,\n\u001b[0;32m    346\u001b[0m     cache_size\u001b[39m=\u001b[39;49m\u001b[39mself\u001b[39;49m\u001b[39m.\u001b[39;49mcache_size,\n\u001b[0;32m    347\u001b[0m     coef0\u001b[39m=\u001b[39;49m\u001b[39mself\u001b[39;49m\u001b[39m.\u001b[39;49mcoef0,\n\u001b[0;32m    348\u001b[0m     gamma\u001b[39m=\u001b[39;49m\u001b[39mself\u001b[39;49m\u001b[39m.\u001b[39;49m_gamma,\n\u001b[0;32m    349\u001b[0m     epsilon\u001b[39m=\u001b[39;49m\u001b[39mself\u001b[39;49m\u001b[39m.\u001b[39;49mepsilon,\n\u001b[0;32m    350\u001b[0m     max_iter\u001b[39m=\u001b[39;49m\u001b[39mself\u001b[39;49m\u001b[39m.\u001b[39;49mmax_iter,\n\u001b[0;32m    351\u001b[0m     random_seed\u001b[39m=\u001b[39;49mrandom_seed,\n\u001b[0;32m    352\u001b[0m )\n\u001b[0;32m    354\u001b[0m \u001b[39mself\u001b[39m\u001b[39m.\u001b[39m_warn_from_fit_status()\n",
      "\u001b[1;31mKeyboardInterrupt\u001b[0m: "
     ]
    }
   ],
   "source": [
    "## your code\n",
    "grid_C = [1e-2, 1e-1, 1, 10, 1e2, 1e3, 1e4]\n",
    "# print(grid_C)\n",
    "grid_G = [1e-4, 1e-3, 1e-2, 1e-1, 1, 10, 1e2, 1e3]\n",
    "# print(grid_G)\n",
    "# for i, (train_index, val_index) in enumerate(kfold_data):\n",
    "#     print(\"Split: %s, Training index: %s, Validation index: %s\" % (i+1, len(train_index), len(val_index)))\n",
    "#     # print(\"%s, %s\" % (np.unique(np.array(train_index)).shape, np.unique(np.array(val_index)).shape))\n",
    "best_acc = 0\n",
    "best_parameters = None\n",
    "stat_table = []\n",
    "print(kfold_data)\n",
    "for idx in range(len(grid_C)):\n",
    "    t = []\n",
    "    c_t = grid_C[idx]\n",
    "    for g_t in grid_G:\n",
    "        clf = SVC(C=c_t, kernel='rbf', gamma=g_t)\n",
    "        temp_acc = 0\n",
    "        for i, (train_index, val_index) in enumerate(kfold_data):\n",
    "            print(train_index)\n",
    "            print(val_index)\n",
    "            x_train_t = x_train[train_index]\n",
    "            y_train_t = y_train[train_index]\n",
    "            clf.fit(x_train_t, y_train_t)\n",
    "            x_test_t = x_train[val_index]\n",
    "            y_test_t = y_train[val_index]\n",
    "            y_pred_t = clf.predict(x_test_t)\n",
    "            # print(clf.get_params())\n",
    "            now_acc = accuracy_score(y_true=y_test_t, y_pred=y_pred_t)\n",
    "            print(now_acc)\n",
    "            if now_acc >= temp_acc:\n",
    "                temp_acc = now_acc\n",
    "        t.append(temp_acc)\n",
    "        if temp_acc >= best_acc:\n",
    "            best_parameters = {'C': c_t, 'Gamma': g_t, 'kernel': 'rbf'}\n",
    "    stat_table.append(t)"
   ]
  },
  {
   "cell_type": "code",
   "execution_count": 17,
   "metadata": {},
   "outputs": [
    {
     "name": "stdout",
     "output_type": "stream",
     "text": [
      "{'C': 10.0, 'Gamma': 10.0, 'kernel': 'rbf'}\n",
      "[[0.75, 0.75, 0.75, 0.75], [0.75, 0.75, 0.75, 0.75], [0.75, 0.75, 0.75, 0.75]]\n"
     ]
    }
   ],
   "source": [
    "print(best_parameters)\n",
    "print(stat_table)"
   ]
  },
  {
   "cell_type": "markdown",
   "metadata": {},
   "source": [
    "## Question 3\n",
    "Plot the grid search results of your SVM. The x, y represents the hyperparameters of “gamma” and “C”, respectively. And the color represents the average score of validation folds\n",
    "You reults should be look like this reference image below ![image](https://miro.medium.com/max/1296/1*wGWTup9r4cVytB5MOnsjdQ.png) "
   ]
  },
  {
   "cell_type": "code",
   "execution_count": 14,
   "metadata": {},
   "outputs": [
    {
     "data": {
      "text/plain": [
       "<matplotlib.table.Table at 0x16a443cf310>"
      ]
     },
     "execution_count": 14,
     "metadata": {},
     "output_type": "execute_result"
    },
    {
     "data": {
      "image/png": "[encoded data removed]",
      "text/plain": [
       "<Figure size 640x480 with 1 Axes>"
      ]
     },
     "metadata": {},
     "output_type": "display_data"
    }
   ],
   "source": [
    "plt.table(cellText=stat_table, rowLabels=grid_C, colLabels=grid_G)\n",
    "\n",
    "# fig, ax = plt.subplots()\n",
    "# im, cbar = heatmap(gridsearch, cand_C, cand_gamma, ax=ax, cmap='seismic_r')\n",
    "# texts = annotate_heatmap(im, valfmt='{x:.2f}', threshold=0.2)\n",
    "# plt.title('Hyperparameter Gridsearch')\n",
    "# fig.tight_layout()\n",
    "# plt.savefig('gridsearch_svc.png', dpi=300, transparent=True)\n",
    "# plt.clf()"
   ]
  },
  {
   "cell_type": "markdown",
   "metadata": {},
   "source": [
    "## Question 4\n",
    "Train your SVM model by the best parameters you found from question 2 on the whole training set and evaluate the performance on the test set."
   ]
  },
  {
   "cell_type": "code",
   "execution_count": 15,
   "metadata": {},
   "outputs": [
    {
     "ename": "NameError",
     "evalue": "name 'best_model' is not defined",
     "output_type": "error",
     "traceback": [
      "\u001b[1;31m---------------------------------------------------------------------------\u001b[0m",
      "\u001b[1;31mNameError\u001b[0m                                 Traceback (most recent call last)",
      "Cell \u001b[1;32mIn [15], line 1\u001b[0m\n\u001b[1;32m----> 1\u001b[0m y_pred \u001b[38;5;241m=\u001b[39m \u001b[43mbest_model\u001b[49m\u001b[38;5;241m.\u001b[39mpredict(x_test)\n\u001b[0;32m      2\u001b[0m \u001b[38;5;28mprint\u001b[39m(\u001b[38;5;124m\"\u001b[39m\u001b[38;5;124mAccuracy score: \u001b[39m\u001b[38;5;124m\"\u001b[39m, accuracy_score(y_pred, y_test))\n",
      "\u001b[1;31mNameError\u001b[0m: name 'best_model' is not defined"
     ]
    }
   ],
   "source": [
    "best_model = SVC(C=best_parameters['C'], gamma=best_parameters['Gamma'], kernel='rbf')\n",
    "y_pred = best_model.predict(x_test)\n",
    "print(\"Accuracy score: \", accuracy_score(y_pred, y_test))"
   ]
  }
 ],
 "metadata": {
  "kernelspec": {
   "display_name": "Python 3.10.8 64-bit (microsoft store)",
   "language": "python",
   "name": "python3"
  },
  "language_info": {
   "codemirror_mode": {
    "name": "ipython",
    "version": 3
   },
   "file_extension": ".py",
   "mimetype": "text/x-python",
   "name": "python",
   "nbconvert_exporter": "python",
   "pygments_lexer": "ipython3",
   "version": "3.10.8"
  },
  "vscode": {
   "interpreter": {
    "hash": "8a85b7bf7c779ed67bccf8ae1048f09ef25809d9114b21b047a7bffa30bad8e0"
   }
  }
 },
 "nbformat": 4,
 "nbformat_minor": 4
}
