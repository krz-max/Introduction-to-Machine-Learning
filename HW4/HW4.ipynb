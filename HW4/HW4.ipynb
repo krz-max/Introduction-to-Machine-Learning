{
 "cells": [
  {
   "cell_type": "code",
   "execution_count": 25,
   "metadata": {},
   "outputs": [],
   "source": [
    "import matplotlib\n",
    "import matplotlib.pyplot as plt\n",
    "import numpy as np\n",
    "import pandas as pd\n",
    "from sklearn.metrics import accuracy_score\n",
    "from sklearn.svm import SVC, SVR"
   ]
  },
  {
   "cell_type": "markdown",
   "metadata": {},
   "source": [
    "## Load data"
   ]
  },
  {
   "cell_type": "code",
   "execution_count": 26,
   "metadata": {},
   "outputs": [],
   "source": [
    "x_train = np.load(\"x_train.npy\")\n",
    "y_train = np.load(\"y_train.npy\")\n",
    "x_test = np.load(\"x_test.npy\")\n",
    "# y_test = np.load(\"y_test.npy\")"
   ]
  },
  {
   "cell_type": "code",
   "execution_count": 27,
   "metadata": {},
   "outputs": [
    {
     "name": "stdout",
     "output_type": "stream",
     "text": [
      "(7000, 300)\n",
      "(7000,)\n"
     ]
    }
   ],
   "source": [
    "# 7000 data with 300 features\n",
    "print(x_train.shape)\n",
    "print(y_train.shape)"
   ]
  },
  {
   "cell_type": "code",
   "execution_count": 28,
   "metadata": {},
   "outputs": [
    {
     "name": "stdout",
     "output_type": "stream",
     "text": [
      "[0 1]\n"
     ]
    }
   ],
   "source": [
    "# It's a binary classification problem \n",
    "print(np.unique(y_train))"
   ]
  },
  {
   "cell_type": "code",
   "execution_count": 29,
   "metadata": {},
   "outputs": [
    {
     "name": "stdout",
     "output_type": "stream",
     "text": [
      "[4 2 1 3 0]\n",
      "(7000, 300)\n",
      "[[4 2 7]\n",
      " [3 5 1]\n",
      " [0 8 6]]\n",
      "10\n"
     ]
    }
   ],
   "source": [
    "# Function test\n",
    "rng = np.random.default_rng()\n",
    "print(rng.choice(5, 5, replace=False))\n",
    "print(rng.choice(x_train, x_train.shape[0], replace=False).shape)\n",
    "test = rng.choice(9, size=(3,3), replace=False)\n",
    "print(test)\n",
    "rng.permutation(test)\n",
    "print(100//10)\n",
    "xs = [22, 13, 45, 50, 98, 69, 43, 44, 1]\n",
    "test = [x+1 if x >= 45 else x+5 for x in xs]"
   ]
  },
  {
   "cell_type": "markdown",
   "metadata": {},
   "source": [
    "## Question 1\n",
    "K-fold data partition: Implement the K-fold cross-validation function. Your function should take K as an argument and return a list of lists (len(list) should equal to K), which contains K elements. Each element is a list contains two parts, the first part contains the index of all training folds, e.g. Fold 2 to Fold 5 in split 1. The second part contains the index of validation fold, e.g. Fold 1 in  split 1"
   ]
  },
  {
   "cell_type": "code",
   "execution_count": 30,
   "metadata": {},
   "outputs": [],
   "source": [
    "rng = np.random.default_rng()\n",
    "def cross_validation(x_train, y_train, k=5):\n",
    "    # shuffle the data\n",
    "    shuf_idx = rng.permutation(x_train.shape[0])\n",
    "    print(np.unique(shuf_idx).shape)\n",
    "    # find the size of each fold\n",
    "    all_size = np.array([(x_train.shape[0] // k) + 1 if i < x_train.shape[0] % k else x_train.shape[0] // k for i in range(k)])\n",
    "    all_split = []\n",
    "    for i in range(k):\n",
    "        val_idx   = shuf_idx[np.sum(all_size[0:i]):np.sum(all_size[0:(i+1)])]\n",
    "        mask = np.isin(shuf_idx, val_idx, invert=True)\n",
    "        # print(mask.shape)\n",
    "        train_idx = shuf_idx[mask]\n",
    "        all_split.append([])\n",
    "        all_split[i].append(train_idx)\n",
    "        all_split[i].append(val_idx)\n",
    "    return all_split"
   ]
  },
  {
   "cell_type": "code",
   "execution_count": 31,
   "metadata": {},
   "outputs": [
    {
     "name": "stdout",
     "output_type": "stream",
     "text": [
      "(7000,)\n",
      "Split: 1, Training index: 6300, Validation index: 700\n",
      "Split: 2, Training index: 6300, Validation index: 700\n",
      "Split: 3, Training index: 6300, Validation index: 700\n",
      "Split: 4, Training index: 6300, Validation index: 700\n",
      "Split: 5, Training index: 6300, Validation index: 700\n",
      "Split: 6, Training index: 6300, Validation index: 700\n",
      "Split: 7, Training index: 6300, Validation index: 700\n",
      "Split: 8, Training index: 6300, Validation index: 700\n",
      "Split: 9, Training index: 6300, Validation index: 700\n",
      "Split: 10, Training index: 6300, Validation index: 700\n"
     ]
    }
   ],
   "source": [
    "kfold_data = cross_validation(x_train, y_train, k=10)\n",
    "for i, (train_index, val_index) in enumerate(kfold_data):\n",
    "    print(\"Split: %s, Training index: %s, Validation index: %s\" % (i+1, len(train_index), len(val_index)))\n",
    "assert len(kfold_data) == 10 # should contain 10 fold of data\n",
    "assert len(kfold_data[0]) == 2 # each element should contain train fold and validation fold\n",
    "assert kfold_data[0][1].shape[0] == 700 # The number of data in each validation fold should equal to training data divieded by K"
   ]
  },
  {
   "cell_type": "markdown",
   "metadata": {},
   "source": [
    "## Question 2\n",
    "Using sklearn.svm.SVC to train a classifier on the provided train set and conduct the grid search of “C” and “gamma” to find the best parameters by cross-validation."
   ]
  },
  {
   "cell_type": "code",
   "execution_count": 32,
   "metadata": {},
   "outputs": [
    {
     "name": "stdout",
     "output_type": "stream",
     "text": [
      "(7000,)\n",
      "Split: 1, Training index: 5600, Validation index: 1400\n",
      "Split: 2, Training index: 5600, Validation index: 1400\n",
      "Split: 3, Training index: 5600, Validation index: 1400\n",
      "Split: 4, Training index: 5600, Validation index: 1400\n",
      "Split: 5, Training index: 5600, Validation index: 1400\n"
     ]
    }
   ],
   "source": [
    "# Train with k=5\n",
    "kfold_data = cross_validation(x_train, y_train, k=5)\n",
    "for i, (train_index, val_index) in enumerate(kfold_data):\n",
    "    print(\"Split: %s, Training index: %s, Validation index: %s\" % (i+1, len(train_index), len(val_index)))\n",
    "assert len(kfold_data) == 5 # should contain 5 fold of data\n",
    "assert len(kfold_data[0]) == 2 # each element should contain train fold and validation fold\n",
    "assert kfold_data[0][1].shape[0] == 1400 # The number of data in each validation fold should equal to training data divieded by K"
   ]
  },
  {
   "cell_type": "code",
   "execution_count": 33,
   "metadata": {},
   "outputs": [],
   "source": [
    "clf = SVC(C=1.0, kernel='rbf', gamma=0.01)"
   ]
  },
  {
   "cell_type": "code",
   "execution_count": 34,
   "metadata": {},
   "outputs": [],
   "source": [
    "## your code\n",
    "grid_C = [1, 1e1, 1e2, 1e3, 1e4]\n",
    "# print(grid_C)\n",
    "grid_G = [1e-5, 2e-5, 4e-5, 6e-5, 8e-5, 1e-4]\n",
    "# print(grid_G)\n",
    "# for i, (train_index, val_index) in enumerate(kfold_data):\n",
    "#     print(\"Split: %s, Training index: %s, Validation index: %s\" % (i+1, len(train_index), len(val_index)))\n",
    "#     # print(\"%s, %s\" % (np.unique(np.array(train_index)).shape, np.unique(np.array(val_index)).shape))\n",
    "best_acc = 0\n",
    "best_parameters = None\n",
    "stat_table = []\n",
    "for idx in range(len(grid_C)):\n",
    "    t = []\n",
    "    c_t = grid_C[idx]\n",
    "    for g_t in grid_G:\n",
    "        clf = SVC(C=c_t, kernel='rbf', gamma=g_t)\n",
    "        temp_acc = 0\n",
    "        for i, (train_index, val_index) in enumerate(kfold_data):\n",
    "            x_train_t = x_train[train_index]\n",
    "            y_train_t = y_train[train_index]\n",
    "            clf.fit(x_train_t, y_train_t)\n",
    "            x_test_t = x_train[val_index]\n",
    "            y_test_t = y_train[val_index]\n",
    "            y_pred_t = clf.predict(x_test_t)\n",
    "            temp_acc += accuracy_score(y_true=y_test_t, y_pred=y_pred_t)\n",
    "        temp_acc = temp_acc / len(kfold_data)\n",
    "        t.append(temp_acc)\n",
    "        if temp_acc >= best_acc:\n",
    "            best_parameters = {'C': c_t, 'Gamma': g_t, 'kernel': 'rbf'}\n",
    "    stat_table.append(t)"
   ]
  },
  {
   "cell_type": "code",
   "execution_count": 37,
   "metadata": {},
   "outputs": [
    {
     "name": "stdout",
     "output_type": "stream",
     "text": [
      "{'C': 10000.0, 'Gamma': 0.0001, 'kernel': 'rbf'}\n",
      "[[0.9522857142857143, 0.9762857142857143, 0.9904285714285714, 0.9928571428571429, 0.9932857142857141, 0.9932857142857141], [0.9841428571428571, 0.9921428571428571, 0.9928571428571429, 0.9931428571428571, 0.9932857142857143, 0.9932857142857143], [0.9907142857142857, 0.9917142857142857, 0.9928571428571429, 0.9931428571428571, 0.9932857142857143, 0.9932857142857143], [0.9905714285714285, 0.9917142857142857, 0.9928571428571429, 0.9931428571428571, 0.9932857142857143, 0.9932857142857143], [0.9905714285714285, 0.9917142857142857, 0.9928571428571429, 0.9931428571428571, 0.9932857142857143, 0.9932857142857143]]\n"
     ]
    }
   ],
   "source": [
    "print(best_parameters)\n",
    "print(stat_table)"
   ]
  },
  {
   "cell_type": "markdown",
   "metadata": {},
   "source": [
    "## Question 3\n",
    "Plot the grid search results of your SVM. The x, y represents the hyperparameters of “gamma” and “C”, respectively. And the color represents the average score of validation folds\n",
    "You reults should be look like this reference image below ![image](https://miro.medium.com/max/1296/1*wGWTup9r4cVytB5MOnsjdQ.png) "
   ]
  },
  {
   "cell_type": "code",
   "execution_count": 44,
   "metadata": {},
   "outputs": [
    {
     "data": {
      "image/png": "[encoded data removed]",
      "text/plain": [
       "<Figure size 640x480 with 2 Axes>"
      ]
     },
     "metadata": {},
     "output_type": "display_data"
    }
   ],
   "source": [
    "def heatmap(data, row_labels, col_labels, ax=None, **kwargs):\n",
    "    \"\"\"\n",
    "    Create a heatmap from a numpy array and two lists of labels.\n",
    "\n",
    "    Parameters\n",
    "    ----------\n",
    "    data\n",
    "        A 2D numpy array of shape (M, N).\n",
    "    row_labels\n",
    "        A list or array of length M with the labels for the rows.\n",
    "    col_labels\n",
    "        A list or array of length N with the labels for the columns.\n",
    "    ax\n",
    "        A `matplotlib.axes.Axes` instance to which the heatmap is plotted.  If\n",
    "        not provided, use current axes or create a new one.  Optional.\n",
    "    cbar_kw\n",
    "        A dictionary with arguments to `matplotlib.Figure.colorbar`.  Optional.\n",
    "    cbarlabel\n",
    "        The label for the colorbar.  Optional.\n",
    "    **kwargs\n",
    "        All other arguments are forwarded to `imshow`.\n",
    "    \"\"\"\n",
    "\n",
    "    if ax is None:\n",
    "        ax = plt.gca()\n",
    "\n",
    "    # Plot the heatmap\n",
    "    im = ax.imshow(data, **kwargs)\n",
    "\n",
    "    # Create colorbar\n",
    "    cbar = ax.figure.colorbar(im, ax=ax)\n",
    "    \n",
    "    ax.set_xticks(np.arange(data.shape[1]))\n",
    "    ax.set_yticks(np.arange(data.shape[0]))\n",
    "    ax.set_xticklabels(col_labels)\n",
    "    ax.set_yticklabels(row_labels)\n",
    "\n",
    "    # Let the horizontal axes labeling appear on top.\n",
    "    ax.tick_params(top=False, bottom=True, labeltop=False, labelbottom=True)\n",
    "\n",
    "    # Rotate the tick labels and set their alignment.\n",
    "    plt.setp(ax.get_xticklabels(), rotation=0, ha=\"center\",\n",
    "             rotation_mode=\"anchor\")\n",
    "\n",
    "    return im, cbar\n",
    "\n",
    "\n",
    "def annotate_heatmap(im, data=None, valfmt=\"{x:.2f}\", **textkw):\n",
    "    \"\"\"\n",
    "    A function to annotate a heatmap.\n",
    "\n",
    "    Parameters\n",
    "    ----------\n",
    "    im\n",
    "        The AxesImage to be labeled.\n",
    "    data\n",
    "        Data used to annotate.  If None, the image's data is used.  Optional.\n",
    "    valfmt\n",
    "        The format of the annotations inside the heatmap.  This should either\n",
    "        use the string format method, e.g. \"$ {x:.2f}\", or be a\n",
    "        `matplotlib.ticker.Formatter`.  Optional.\n",
    "    textcolors\n",
    "        A pair of colors.  The first is used for values below a threshold,\n",
    "        the second for those above.  Optional.\n",
    "    threshold\n",
    "        Value in data units according to which the colors from textcolors are\n",
    "        applied.  If None (the default) uses the middle of the colormap as\n",
    "        separation.  Optional.\n",
    "    **kwargs\n",
    "        All other arguments are forwarded to each call to `text` used to create\n",
    "        the text labels.\n",
    "    \"\"\"\n",
    "\n",
    "    data = im.get_array()\n",
    "\n",
    "    # Set default alignment to center, but allow it to be\n",
    "    # overwritten by textkw.\n",
    "    kw = dict(horizontalalignment=\"center\", verticalalignment=\"center\")\n",
    "\n",
    "    # Get the formatter in case a string is supplied\n",
    "    if isinstance(valfmt, str):\n",
    "        valfmt = matplotlib.ticker.StrMethodFormatter(valfmt)\n",
    "\n",
    "    # Loop over the data and create a `Text` for each \"pixel\".\n",
    "    # Change the text's color depending on the data.\n",
    "    texts = []\n",
    "    for i in range(data.shape[0]):\n",
    "        for j in range(data.shape[1]):\n",
    "            kw.update(color='white')\n",
    "            text = im.axes.text(j, i, valfmt(data[i, j], None), **kw)\n",
    "            texts.append(text)\n",
    "\n",
    "    return texts\n",
    "\n",
    "\n",
    "fig, ax = plt.subplots()\n",
    "im, cbar = heatmap(np.array(stat_table), grid_C, grid_G, ax=ax, cmap='seismic_r')\n",
    "texts = annotate_heatmap(im, valfmt='{x:.3f}')\n",
    "plt.title('Hyperparameter Gridsearch')\n",
    "fig.tight_layout()\n",
    "plt.show()"
   ]
  },
  {
   "cell_type": "markdown",
   "metadata": {},
   "source": [
    "## Question 4\n",
    "Train your SVM model by the best parameters you found from question 2 on the whole training set and evaluate the performance on the test set."
   ]
  },
  {
   "cell_type": "code",
   "execution_count": 45,
   "metadata": {},
   "outputs": [
    {
     "ename": "NotFittedError",
     "evalue": "This SVC instance is not fitted yet. Call 'fit' with appropriate arguments before using this estimator.",
     "output_type": "error",
     "traceback": [
      "\u001b[1;31m---------------------------------------------------------------------------\u001b[0m",
      "\u001b[1;31mNotFittedError\u001b[0m                            Traceback (most recent call last)",
      "Cell \u001b[1;32mIn [45], line 2\u001b[0m\n\u001b[0;32m      1\u001b[0m best_model \u001b[38;5;241m=\u001b[39m SVC(C\u001b[38;5;241m=\u001b[39mbest_parameters[\u001b[38;5;124m'\u001b[39m\u001b[38;5;124mC\u001b[39m\u001b[38;5;124m'\u001b[39m], gamma\u001b[38;5;241m=\u001b[39mbest_parameters[\u001b[38;5;124m'\u001b[39m\u001b[38;5;124mGamma\u001b[39m\u001b[38;5;124m'\u001b[39m], kernel\u001b[38;5;241m=\u001b[39m\u001b[38;5;124m'\u001b[39m\u001b[38;5;124mrbf\u001b[39m\u001b[38;5;124m'\u001b[39m)\n\u001b[1;32m----> 2\u001b[0m y_pred \u001b[38;5;241m=\u001b[39m \u001b[43mbest_model\u001b[49m\u001b[38;5;241;43m.\u001b[39;49m\u001b[43mpredict\u001b[49m\u001b[43m(\u001b[49m\u001b[43mx_test\u001b[49m\u001b[43m)\u001b[49m\n\u001b[0;32m      3\u001b[0m \u001b[38;5;28mprint\u001b[39m(\u001b[38;5;124m\"\u001b[39m\u001b[38;5;124mAccuracy score: \u001b[39m\u001b[38;5;124m\"\u001b[39m, accuracy_score(y_pred, y_test))\n",
      "File \u001b[1;32m~\\AppData\\Local\\Packages\\PythonSoftwareFoundation.Python.3.10_qbz5n2kfra8p0\\LocalCache\\local-packages\\Python310\\site-packages\\sklearn\\svm\\_base.py:797\u001b[0m, in \u001b[0;36mBaseSVC.predict\u001b[1;34m(self, X)\u001b[0m\n\u001b[0;32m    780\u001b[0m \u001b[39mdef\u001b[39;00m \u001b[39mpredict\u001b[39m(\u001b[39mself\u001b[39m, X):\n\u001b[0;32m    781\u001b[0m     \u001b[39m\"\"\"Perform classification on samples in X.\u001b[39;00m\n\u001b[0;32m    782\u001b[0m \n\u001b[0;32m    783\u001b[0m \u001b[39m    For an one-class model, +1 or -1 is returned.\u001b[39;00m\n\u001b[1;32m   (...)\u001b[0m\n\u001b[0;32m    795\u001b[0m \u001b[39m        Class labels for samples in X.\u001b[39;00m\n\u001b[0;32m    796\u001b[0m \u001b[39m    \"\"\"\u001b[39;00m\n\u001b[1;32m--> 797\u001b[0m     check_is_fitted(\u001b[39mself\u001b[39;49m)\n\u001b[0;32m    798\u001b[0m     \u001b[39mif\u001b[39;00m \u001b[39mself\u001b[39m\u001b[39m.\u001b[39mbreak_ties \u001b[39mand\u001b[39;00m \u001b[39mself\u001b[39m\u001b[39m.\u001b[39mdecision_function_shape \u001b[39m==\u001b[39m \u001b[39m\"\u001b[39m\u001b[39movo\u001b[39m\u001b[39m\"\u001b[39m:\n\u001b[0;32m    799\u001b[0m         \u001b[39mraise\u001b[39;00m \u001b[39mValueError\u001b[39;00m(\n\u001b[0;32m    800\u001b[0m             \u001b[39m\"\u001b[39m\u001b[39mbreak_ties must be False when decision_function_shape is \u001b[39m\u001b[39m'\u001b[39m\u001b[39movo\u001b[39m\u001b[39m'\u001b[39m\u001b[39m\"\u001b[39m\n\u001b[0;32m    801\u001b[0m         )\n",
      "File \u001b[1;32m~\\AppData\\Local\\Packages\\PythonSoftwareFoundation.Python.3.10_qbz5n2kfra8p0\\LocalCache\\local-packages\\Python310\\site-packages\\sklearn\\utils\\validation.py:1345\u001b[0m, in \u001b[0;36mcheck_is_fitted\u001b[1;34m(estimator, attributes, msg, all_or_any)\u001b[0m\n\u001b[0;32m   1340\u001b[0m     fitted \u001b[39m=\u001b[39m [\n\u001b[0;32m   1341\u001b[0m         v \u001b[39mfor\u001b[39;00m v \u001b[39min\u001b[39;00m \u001b[39mvars\u001b[39m(estimator) \u001b[39mif\u001b[39;00m v\u001b[39m.\u001b[39mendswith(\u001b[39m\"\u001b[39m\u001b[39m_\u001b[39m\u001b[39m\"\u001b[39m) \u001b[39mand\u001b[39;00m \u001b[39mnot\u001b[39;00m v\u001b[39m.\u001b[39mstartswith(\u001b[39m\"\u001b[39m\u001b[39m__\u001b[39m\u001b[39m\"\u001b[39m)\n\u001b[0;32m   1342\u001b[0m     ]\n\u001b[0;32m   1344\u001b[0m \u001b[39mif\u001b[39;00m \u001b[39mnot\u001b[39;00m fitted:\n\u001b[1;32m-> 1345\u001b[0m     \u001b[39mraise\u001b[39;00m NotFittedError(msg \u001b[39m%\u001b[39m {\u001b[39m\"\u001b[39m\u001b[39mname\u001b[39m\u001b[39m\"\u001b[39m: \u001b[39mtype\u001b[39m(estimator)\u001b[39m.\u001b[39m\u001b[39m__name__\u001b[39m})\n",
      "\u001b[1;31mNotFittedError\u001b[0m: This SVC instance is not fitted yet. Call 'fit' with appropriate arguments before using this estimator."
     ]
    }
   ],
   "source": [
    "print(best_parameters)\n",
    "best_model = SVC(C=best_parameters['C'], gamma=best_parameters['Gamma'], kernel='rbf')\n",
    "best_model.fit(x_train, y_train)\n",
    "y_pred = best_model.predict(x_test)\n",
    "print(\"Accuracy score: \", accuracy_score(y_pred, y_test))"
   ]
  }
 ],
 "metadata": {
  "kernelspec": {
   "display_name": "Python 3.10.8 64-bit (microsoft store)",
   "language": "python",
   "name": "python3"
  },
  "language_info": {
   "codemirror_mode": {
    "name": "ipython",
    "version": 3
   },
   "file_extension": ".py",
   "mimetype": "text/x-python",
   "name": "python",
   "nbconvert_exporter": "python",
   "pygments_lexer": "ipython3",
   "version": "3.10.8"
  },
  "vscode": {
   "interpreter": {
    "hash": "8a85b7bf7c779ed67bccf8ae1048f09ef25809d9114b21b047a7bffa30bad8e0"
   }
  }
 },
 "nbformat": 4,
 "nbformat_minor": 4
}
