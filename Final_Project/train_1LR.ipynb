{
 "cells": [
  {
   "cell_type": "code",
   "execution_count": 55,
   "metadata": {},
   "outputs": [],
   "source": [
    "import pickle\n",
    "import warnings\n",
    "\n",
    "import matplotlib.pyplot as plt\n",
    "import numpy as np\n",
    "import pandas as pd\n",
    "import seaborn as sn\n",
    "from colorama import Back, Fore, Style\n",
    "from scipy.stats import rankdata\n",
    "from sklearn.feature_selection import SelectFromModel\n",
    "from sklearn.impute import KNNImputer\n",
    "from sklearn.linear_model import (HuberRegressor, LinearRegression,\n",
    "                                  LogisticRegression)\n",
    "from sklearn.metrics import accuracy_score, roc_auc_score, roc_curve\n",
    "from sklearn.model_selection import GroupKFold, StratifiedKFold\n",
    "from sklearn.preprocessing import (LabelEncoder, MaxAbsScaler, MinMaxScaler,\n",
    "                                   PowerTransformer, RobustScaler,\n",
    "                                   StandardScaler)\n",
    "\n",
    "warnings.filterwarnings('ignore')"
   ]
  },
  {
   "cell_type": "markdown",
   "metadata": {},
   "source": [
    "# My Code"
   ]
  },
  {
   "cell_type": "code",
   "execution_count": 40,
   "metadata": {},
   "outputs": [],
   "source": [
    "# Read csv\n",
    "train = pd.read_csv('train.csv')\n",
    "test = pd.read_csv('test.csv')\n",
    "submission = pd.read_csv('sample_submission.csv')"
   ]
  },
  {
   "cell_type": "code",
   "execution_count": 41,
   "metadata": {},
   "outputs": [
    {
     "data": {
      "text/plain": [
       "array([False])"
      ]
     },
     "execution_count": 41,
     "metadata": {},
     "output_type": "execute_result"
    }
   ],
   "source": [
    "# Check if any rows of data are duplicated\n",
    "t = train.duplicated()\n",
    "t.unique()"
   ]
  },
  {
   "cell_type": "code",
   "execution_count": 42,
   "metadata": {},
   "outputs": [
    {
     "name": "stdout",
     "output_type": "stream",
     "text": [
      "code A has 386 samples to fill nan\n",
      "KNN imputing code A\n",
      "code B has 418 samples to fill nan\n",
      "KNN imputing code B\n",
      "code C has 391 samples to fill nan\n",
      "KNN imputing code C\n",
      "code D has 398 samples to fill nan\n",
      "KNN imputing code D\n",
      "code E has 429 samples to fill nan\n",
      "KNN imputing code E\n",
      "code F has 420 samples to fill nan\n",
      "KNN imputing code F\n",
      "code G has 373 samples to fill nan\n",
      "KNN imputing code G\n",
      "code H has 361 samples to fill nan\n",
      "KNN imputing code H\n",
      "code I has 377 samples to fill nan\n",
      "KNN imputing code I\n"
     ]
    }
   ],
   "source": [
    "def preprocessing(df_train, df_test):\n",
    "    data = pd.concat([df_train, df_test])\n",
    "    \n",
    "    data['m3_missing'] = data['measurement_3'].isnull().astype(np.int8)\n",
    "    data['m5_missing'] = data['measurement_5'].isnull().astype(np.int8)\n",
    "    data['area'] = data['attribute_2'] * data['attribute_3']\n",
    "    # data['loading'] = np.log(data['loading'])\n",
    "\n",
    "    # Select the variables used to generate null value of measurement_17 for each product code\n",
    "    # e.g. for product 'A', NaN values in measurement_17 is filled by a linear combination of (measurement_5, measurement_6, measurement_8)\n",
    "    full_fill_dict = {\n",
    "        'A': ['measurement_5','measurement_6','measurement_8'],\n",
    "        'B': ['measurement_4','measurement_5','measurement_7'],\n",
    "        'C': ['measurement_5','measurement_7','measurement_8','measurement_9'],\n",
    "        'D': ['measurement_5','measurement_6','measurement_7','measurement_8'],\n",
    "        'E': ['measurement_4','measurement_5','measurement_6','measurement_8'],\n",
    "        'F': ['measurement_4','measurement_5','measurement_6','measurement_7'],\n",
    "        'G': ['measurement_4','measurement_6','measurement_8','measurement_9'],\n",
    "        'H': ['measurement_4','measurement_5','measurement_7','measurement_8','measurement_9'],\n",
    "        'I': ['measurement_3','measurement_7','measurement_8']\n",
    "    }\n",
    "\n",
    "\n",
    "    features = [f for f in test.columns if 'measurement' in f] + ['loading']\n",
    "    for code in data['product_code'].unique(): # ('A', 'B', ..., 'I')\n",
    "        tmp = data[data['product_code'] == code]\n",
    "        column = full_fill_dict[code]\n",
    "        \n",
    "        # the data used to train the HuberRegressor, so all variables & `measurement_17` should exist <=> drop all NaN values\n",
    "        tmp_train = tmp[column + ['measurement_17']].dropna(how='any')\n",
    "        \n",
    "        # tmp_test = tmp[(all variables in `full_fill_dict[code]` are not NaN) & (the `measurement_17` is NaN in the row of data)]\n",
    "        tmp_test = tmp[(tmp[column].isnull().sum(axis=1) == 0) & (tmp['measurement_17'].isnull())]\n",
    "        print(f\"code {code} has {len(tmp_test)} samples to fill nan\")\n",
    "        \n",
    "        \n",
    "        model = HuberRegressor()\n",
    "        model.fit(tmp_train[column], tmp_train['measurement_17'])\n",
    "        # Fill the missing `measurement_17` values by the trained model\n",
    "        data.loc[(data['product_code'] == code) & (data[column].isnull().sum(axis=1) == 0) & (data['measurement_17'].isnull()), 'measurement_17'] = model.predict(tmp_test[column])\n",
    "        \n",
    "        # Other missing values are filled by KNNImputer\n",
    "        model2 = KNNImputer(n_neighbors=5)\n",
    "        print(f\"KNN imputing code {code}\")\n",
    "        data.loc[(data['product_code'] == code), features] = model2.fit_transform(data.loc[(data['product_code'] == code), features])\n",
    "    \n",
    "    data['measurement_avg'] = data[[f'measurement_{i}' for i in range(3, 17)]].mean(axis=1)\n",
    "    \n",
    "    # [:df_train.shape[0], :] = rows[0:df_train.shape[0]] = [0, df_train.shape[0])\n",
    "    # [df_train.shape[0]:, :] = rows[df_train.shape[0]:len(rows)+1] = [df_train.shape[0], len(rows)]\n",
    "    df_train = data.iloc[:df_train.shape[0], :]\n",
    "    df_test = data.iloc[df_train.shape[0]:, :]\n",
    "    \n",
    "    # woe_encoder = WoEEncoder(variables=['attribute_0'])\n",
    "    # woe_encoder.fit(df_train, df_train['failure'])\n",
    "    # df_train = woe_encoder.transform(df_train)\n",
    "    # df_test = woe_encoder.transform(df_test)\n",
    "    encoder = LabelEncoder()\n",
    "    df_train['attribute_0'] = encoder.fit_transform(df_train['attribute_0'])\n",
    "    df_test['attribute_0'] = encoder.fit_transform(df_test['attribute_0'])\n",
    "    \n",
    "    return df_train, df_test\n",
    "\n",
    "df_train, df_test = preprocessing(train, test)"
   ]
  },
  {
   "cell_type": "code",
   "execution_count": 43,
   "metadata": {},
   "outputs": [],
   "source": [
    "def _scale(train_data, val_data, test_data, feats):\n",
    "    scaler = StandardScaler()\n",
    "    # scaler = MinMaxScaler(feature_range=(0, 1))\n",
    "    # scaler = MaxAbsScaler()\n",
    "    # scaler = RobustScaler()\n",
    "    # scaler = PowerTransformer()\n",
    "    \n",
    "    scaled_train = scaler.fit_transform(train_data[feats])\n",
    "    scaled_val = scaler.transform(val_data[feats])\n",
    "    scaled_test = scaler.transform(test_data[feats])\n",
    "    \n",
    "    #back to dataframe\n",
    "    new_train = train_data.copy()\n",
    "    new_val = val_data.copy()\n",
    "    new_test = test_data.copy()\n",
    "    \n",
    "    new_train[feats] = scaled_train\n",
    "    new_val[feats] = scaled_val\n",
    "    new_test[feats] = scaled_test\n",
    "    \n",
    "    assert len(train_data) == len(new_train)\n",
    "    assert len(val_data) == len(new_val)\n",
    "    assert len(test_data) == len(new_test)\n",
    "    \n",
    "    return new_train, new_val, new_test"
   ]
  },
  {
   "cell_type": "code",
   "execution_count": 44,
   "metadata": {},
   "outputs": [
    {
     "name": "stdout",
     "output_type": "stream",
     "text": [
      "(26570, 30) (20775, 30)\n"
     ]
    }
   ],
   "source": [
    "# Make sure all missing values are filled\n",
    "df_train = df_train[df_train.failure.notnull()]\n",
    "df_test = df_test[df_test.failure.isnull()]\n",
    "print(df_train.shape, df_test.shape)"
   ]
  },
  {
   "cell_type": "code",
   "execution_count": 45,
   "metadata": {},
   "outputs": [],
   "source": [
    "X = df_train.drop(['failure'], axis=1)\n",
    "y = df_train.failure # y = df_train['failure']"
   ]
  },
  {
   "cell_type": "code",
   "execution_count": 46,
   "metadata": {},
   "outputs": [],
   "source": [
    "def save_fig(x_train, importance_list, features):\n",
    "    importance_df = pd.DataFrame(np.array(importance_list).T, index=x_train[features].columns)\n",
    "    importance_df['mean'] = importance_df.mean(axis=1).abs()\n",
    "    importance_df['feature'] = x_train[features].columns\n",
    "    importance_df = importance_df.sort_values('mean', ascending=False).reset_index().head(20)\n",
    "    plt.barh(importance_df.index, importance_df['mean'], color='lightgreen')\n",
    "    plt.gca().invert_yaxis()\n",
    "    plt.yticks(ticks=importance_df.index, labels=importance_df['feature'])\n",
    "    plt.title(f'LR Clf feature importances')\n",
    "    plt.tight_layout()\n",
    "    plt.savefig(f'LR Clf Feature Importance')\n",
    "    plt.show()"
   ]
  },
  {
   "cell_type": "code",
   "execution_count": 47,
   "metadata": {},
   "outputs": [
    {
     "name": "stdout",
     "output_type": "stream",
     "text": [
      "Index(['id', 'loading', 'attribute_0', 'attribute_2', 'attribute_3',\n",
      "       'measurement_0', 'measurement_1', 'measurement_2', 'measurement_3',\n",
      "       'measurement_4', 'measurement_5', 'measurement_6', 'measurement_7',\n",
      "       'measurement_8', 'measurement_9', 'measurement_10', 'measurement_11',\n",
      "       'measurement_12', 'measurement_13', 'measurement_14', 'measurement_15',\n",
      "       'measurement_16', 'measurement_17', 'm3_missing', 'm5_missing', 'area',\n",
      "       'measurement_avg'],\n",
      "      dtype='object')\n"
     ]
    },
    {
     "data": {
      "text/plain": [
       "array([False,  True, False, False, False, False, False, False, False,\n",
       "       False, False, False, False, False, False, False, False, False,\n",
       "       False, False, False, False,  True, False, False,  True, False])"
      ]
     },
     "execution_count": 47,
     "metadata": {},
     "output_type": "execute_result"
    }
   ],
   "source": [
    "# Find the most significant features\n",
    "selector = SelectFromModel(estimator=LogisticRegression(), max_features=5).fit(df_train.drop(['failure', 'product_code', 'attribute_1'], axis=1), df_train['product_code'])\n",
    "print(df_train.drop(['failure', 'product_code', 'attribute_1'], axis=1).columns)\n",
    "selector.get_support()"
   ]
  },
  {
   "cell_type": "code",
   "execution_count": 48,
   "metadata": {},
   "outputs": [],
   "source": [
    "# Not sure why `m5_missing` is not selected from the code above, but it has greater influence than other features\n",
    "select_features = ['loading', 'measurement_17', 'm5_missing', 'attribute_0']"
   ]
  },
  {
   "cell_type": "code",
   "execution_count": 49,
   "metadata": {},
   "outputs": [
    {
     "name": "stdout",
     "output_type": "stream",
     "text": [
      "########################## 0 ##########################\n",
      "########################## 1 ##########################\n",
      "########################## 2 ##########################\n",
      "########################## 3 ##########################\n",
      "########################## 4 ##########################\n",
      "\u001b[32m\u001b[1mAverage auc = 0.59096, Average acc = 0.78739\u001b[0m\n",
      "\u001b[31m\u001b[1mOOF auc = 0.59091, OOF acc = 0.78739\u001b[0m\n",
      "############# End of Classifier #############\n"
     ]
    },
    {
     "data": {
      "image/png": "[encoded data removed]",
      "text/plain": [
       "<Figure size 640x480 with 1 Axes>"
      ]
     },
     "metadata": {},
     "output_type": "display_data"
    }
   ],
   "source": [
    "# kf = GroupKFold(n_splits=5)\n",
    "kf = StratifiedKFold(n_splits=5, shuffle=True, random_state=0)\n",
    "lr_oof_1 = np.zeros(len(train))\n",
    "lr_oof_2 = np.zeros(len(train))\n",
    "lr_test = np.zeros(len(test))\n",
    "lr_auc = 0\n",
    "lr_acc = 0\n",
    "importance_list = []\n",
    "features = select_features\n",
    "    \n",
    "# for fold_idx, (train_idx, val_idx) in enumerate(kf.split(X, y, groups=X['product_code'])):\n",
    "# Cross-Validation for 4 Logistic Regression Model\n",
    "for fold_idx, (train_idx, val_idx) in enumerate(kf.split(X, y)):\n",
    "    print(f'########################## {fold_idx} ##########################')\n",
    "    # iloc : indexed_location (by int index ('int'))\n",
    "    # loc : location (by feature name ('object'))\n",
    "    x_train, x_val = X.iloc[train_idx], X.iloc[val_idx]\n",
    "    y_train, y_val = y.iloc[train_idx], y.iloc[val_idx]\n",
    "    x_test = df_test.copy()\n",
    "    \n",
    "    # Use StandardScaler to standardize the data\n",
    "    x_train, x_val, x_test = _scale(x_train, x_val, x_test, features)\n",
    "        \n",
    "    model = LogisticRegression(max_iter=1000, C=0.0001, dual=False, penalty=\"l2\", solver='newton-cg')\n",
    "    model.fit(x_train[features], y_train)\n",
    "        \n",
    "    # numpy.ravel() : Return a contiguous flattened array.\n",
    "    importance_list.append(model.coef_.ravel())\n",
    "\n",
    "\n",
    "    predictions = model.predict_proba(x_val[features])[:, 1]\n",
    "    lr_auc += roc_auc_score(y_val, predictions) / 5\n",
    "    \n",
    "    y_preds = model.predict(x_val[features])\n",
    "    lr_acc += accuracy_score(y_val, y_preds) / 5\n",
    "    \n",
    "    lr_test += model.predict_proba(x_test[features])[:, -1] / 5\n",
    "    lr_oof_1[val_idx] = predictions\n",
    "    lr_oof_2[val_idx] = y_preds\n",
    "\n",
    "print(f\"{Fore.GREEN}{Style.BRIGHT}Average auc = {round(lr_auc, 5)}, Average acc = {round(lr_acc, 5)}{Style.RESET_ALL}\")\n",
    "print(f\"{Fore.RED}{Style.BRIGHT}OOF auc = {round(roc_auc_score(df_train['failure'], lr_oof_1), 5)}, OOF acc = {round(accuracy_score(df_train['failure'], lr_oof_2), 5)}{Style.RESET_ALL}\")\n",
    "print(f'############# End of Classifier #############')\n",
    "    \n",
    "submission['lr0'] = lr_test\n",
    "save_fig(x_train=x_train, importance_list=importance_list, features=features)\n",
    "    "
   ]
  },
  {
   "cell_type": "code",
   "execution_count": 57,
   "metadata": {},
   "outputs": [
    {
     "data": {
      "image/png": "[encoded data removed]",
      "text/plain": [
       "<Figure size 640x480 with 1 Axes>"
      ]
     },
     "metadata": {},
     "output_type": "display_data"
    }
   ],
   "source": [
    "# Plot ROC Curve\n",
    "predictions = model.predict_proba(df_train[features])[:, 1]\n",
    "fpr, tpr, _ = roc_curve(df_train['failure'], predictions)\n",
    "\n",
    "plt.plot(fpr, tpr)\n",
    "plt.ylabel('True Positive Rate')\n",
    "plt.xlabel('False Positive Rate')\n",
    "plt.show()"
   ]
  },
  {
   "cell_type": "code",
   "execution_count": 50,
   "metadata": {},
   "outputs": [],
   "source": [
    "submission['rank0'] = rankdata(submission['lr0'])"
   ]
  },
  {
   "cell_type": "code",
   "execution_count": 51,
   "metadata": {},
   "outputs": [],
   "source": [
    "submission['failure'] = submission['rank0']"
   ]
  },
  {
   "cell_type": "code",
   "execution_count": 52,
   "metadata": {},
   "outputs": [
    {
     "data": {
      "text/html": [
       "<div>\n",
       "<style scoped>\n",
       "    .dataframe tbody tr th:only-of-type {\n",
       "        vertical-align: middle;\n",
       "    }\n",
       "\n",
       "    .dataframe tbody tr th {\n",
       "        vertical-align: top;\n",
       "    }\n",
       "\n",
       "    .dataframe thead th {\n",
       "        text-align: right;\n",
       "    }\n",
       "</style>\n",
       "<table border=\"1\" class=\"dataframe\">\n",
       "  <thead>\n",
       "    <tr style=\"text-align: right;\">\n",
       "      <th></th>\n",
       "      <th>id</th>\n",
       "      <th>failure</th>\n",
       "      <th>lr0</th>\n",
       "      <th>rank0</th>\n",
       "    </tr>\n",
       "  </thead>\n",
       "  <tbody>\n",
       "    <tr>\n",
       "      <th>0</th>\n",
       "      <td>26570</td>\n",
       "      <td>7199.0</td>\n",
       "      <td>0.204152</td>\n",
       "      <td>7199.0</td>\n",
       "    </tr>\n",
       "    <tr>\n",
       "      <th>1</th>\n",
       "      <td>26571</td>\n",
       "      <td>4342.0</td>\n",
       "      <td>0.199444</td>\n",
       "      <td>4342.0</td>\n",
       "    </tr>\n",
       "    <tr>\n",
       "      <th>2</th>\n",
       "      <td>26572</td>\n",
       "      <td>6013.0</td>\n",
       "      <td>0.202289</td>\n",
       "      <td>6013.0</td>\n",
       "    </tr>\n",
       "    <tr>\n",
       "      <th>3</th>\n",
       "      <td>26573</td>\n",
       "      <td>5074.0</td>\n",
       "      <td>0.200723</td>\n",
       "      <td>5074.0</td>\n",
       "    </tr>\n",
       "    <tr>\n",
       "      <th>4</th>\n",
       "      <td>26574</td>\n",
       "      <td>19959.0</td>\n",
       "      <td>0.241204</td>\n",
       "      <td>19959.0</td>\n",
       "    </tr>\n",
       "  </tbody>\n",
       "</table>\n",
       "</div>"
      ],
      "text/plain": [
       "      id  failure       lr0    rank0\n",
       "0  26570   7199.0  0.204152   7199.0\n",
       "1  26571   4342.0  0.199444   4342.0\n",
       "2  26572   6013.0  0.202289   6013.0\n",
       "3  26573   5074.0  0.200723   5074.0\n",
       "4  26574  19959.0  0.241204  19959.0"
      ]
     },
     "execution_count": 52,
     "metadata": {},
     "output_type": "execute_result"
    }
   ],
   "source": [
    "submission.head()"
   ]
  },
  {
   "cell_type": "code",
   "execution_count": 53,
   "metadata": {},
   "outputs": [],
   "source": [
    "submission[['id', 'failure']].to_csv('submission.csv', index=False)"
   ]
  },
  {
   "cell_type": "code",
   "execution_count": 54,
   "metadata": {},
   "outputs": [],
   "source": [
    "filename = 'Model0.sav'\n",
    "pickle.dump(model, open(filename, 'wb'))"
   ]
  }
 ],
 "metadata": {
  "kernelspec": {
   "display_name": "Python 3.10.0 64-bit",
   "language": "python",
   "name": "python3"
  },
  "language_info": {
   "codemirror_mode": {
    "name": "ipython",
    "version": 3
   },
   "file_extension": ".py",
   "mimetype": "text/x-python",
   "name": "python",
   "nbconvert_exporter": "python",
   "pygments_lexer": "ipython3",
   "version": "3.10.0"
  },
  "orig_nbformat": 4,
  "vscode": {
   "interpreter": {
    "hash": "369f2c481f4da34e4445cda3fffd2e751bd1c4d706f27375911949ba6bb62e1c"
   }
  }
 },
 "nbformat": 4,
 "nbformat_minor": 2
}
