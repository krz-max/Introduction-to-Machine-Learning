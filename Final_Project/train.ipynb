{
 "cells": [
  {
   "cell_type": "code",
   "execution_count": 127,
   "metadata": {},
   "outputs": [],
   "source": [
    "# !pip install feature_engine"
   ]
  },
  {
   "cell_type": "code",
   "execution_count": 128,
   "metadata": {},
   "outputs": [],
   "source": [
    "import warnings\n",
    "\n",
    "import matplotlib.pyplot as plt\n",
    "import numpy as np\n",
    "import pandas as pd\n",
    "import seaborn as sn\n",
    "import pickle\n",
    "from colorama import Back, Fore, Style\n",
    "from feature_engine.encoding import WoEEncoder\n",
    "from scipy.stats import rankdata\n",
    "from sklearn.impute import KNNImputer\n",
    "from sklearn.linear_model import (HuberRegressor, LinearRegression,\n",
    "                                  LogisticRegression)\n",
    "from sklearn.metrics import accuracy_score, roc_auc_score\n",
    "from sklearn.model_selection import StratifiedKFold\n",
    "from sklearn.preprocessing import LabelEncoder, StandardScaler\n",
    "\n",
    "warnings.filterwarnings('ignore')"
   ]
  },
  {
   "cell_type": "code",
   "execution_count": 129,
   "metadata": {},
   "outputs": [],
   "source": [
    "train = pd.read_csv('train.csv')\n",
    "test = pd.read_csv('test.csv')\n",
    "submission = pd.read_csv('sample_submission.csv')"
   ]
  },
  {
   "cell_type": "code",
   "execution_count": 130,
   "metadata": {},
   "outputs": [
    {
     "name": "stdout",
     "output_type": "stream",
     "text": [
      "code A has 386 samples to fill nan\n",
      "KNN imputing code A\n",
      "code B has 418 samples to fill nan\n",
      "KNN imputing code B\n",
      "code C has 391 samples to fill nan\n",
      "KNN imputing code C\n",
      "code D has 398 samples to fill nan\n",
      "KNN imputing code D\n",
      "code E has 429 samples to fill nan\n",
      "KNN imputing code E\n",
      "code F has 420 samples to fill nan\n",
      "KNN imputing code F\n",
      "code G has 373 samples to fill nan\n",
      "KNN imputing code G\n",
      "code H has 361 samples to fill nan\n",
      "KNN imputing code H\n",
      "code I has 377 samples to fill nan\n",
      "KNN imputing code I\n"
     ]
    }
   ],
   "source": [
    "def preprocessing(df_train, df_test):\n",
    "    data = pd.concat([df_train, df_test])\n",
    "    \n",
    "    data['m3_missing'] = data['measurement_3'].isnull().astype(np.int8)\n",
    "    data['m5_missing'] = data['measurement_5'].isnull().astype(np.int8)\n",
    "    data['area'] = data['attribute_2'] * data['attribute_3']\n",
    "    data['loading'] = np.log(data['loading'])\n",
    "\n",
    "    full_fill_dict = {\n",
    "        'A': ['measurement_5','measurement_6','measurement_8'],\n",
    "        'B': ['measurement_4','measurement_5','measurement_7'],\n",
    "        'C': ['measurement_5','measurement_7','measurement_8','measurement_9'],\n",
    "        'D': ['measurement_5','measurement_6','measurement_7','measurement_8'],\n",
    "        'E': ['measurement_4','measurement_5','measurement_6','measurement_8'],\n",
    "        'F': ['measurement_4','measurement_5','measurement_6','measurement_7'],\n",
    "        'G': ['measurement_4','measurement_6','measurement_8','measurement_9'],\n",
    "        'H': ['measurement_4','measurement_5','measurement_7','measurement_8','measurement_9'],\n",
    "        'I': ['measurement_3','measurement_7','measurement_8']\n",
    "    }\n",
    "\n",
    "    features = [f for f in test.columns if 'measurement' in f] + ['loading']\n",
    "    for code in data.product_code.unique():\n",
    "        tmp = data[data.product_code==code]\n",
    "        column = full_fill_dict[code]\n",
    "        tmp_train = tmp[column+['measurement_17']].dropna(how='any')\n",
    "        tmp_test = tmp[(tmp[column].isnull().sum(axis=1)==0)&(tmp['measurement_17'].isnull())]\n",
    "        print(f\"code {code} has {len(tmp_test)} samples to fill nan\")\n",
    "        model = HuberRegressor()\n",
    "        model.fit(tmp_train[column], tmp_train['measurement_17'])\n",
    "        data.loc[(data.product_code==code)&(data[column].isnull().sum(axis=1)==0)&(data['measurement_17'].isnull()), 'measurement_17'] = model.predict(tmp_test[column])\n",
    "        model2 = KNNImputer(n_neighbors=5)\n",
    "        print(f\"KNN imputing code {code}\")\n",
    "        data.loc[data.product_code==code, features] = model2.fit_transform(data.loc[data.product_code==code, features])\n",
    "    \n",
    "    data['measurement_avg'] = data[[f'measurement_{i}' for i in range(3, 17)]].mean(axis=1)\n",
    "    \n",
    "    df_train = data.iloc[:df_train.shape[0], :]\n",
    "    df_test = data.iloc[df_train.shape[0]:, :]\n",
    "    \n",
    "    woe_encoder = WoEEncoder(variables=['attribute_0'])\n",
    "    woe_encoder.fit(df_train, df_train['failure'])\n",
    "    df_train = woe_encoder.transform(df_train)\n",
    "    df_test = woe_encoder.transform(df_test)\n",
    "\n",
    "    return df_train, df_test\n",
    "\n",
    "df_train, df_test = preprocessing(train, test)"
   ]
  },
  {
   "cell_type": "code",
   "execution_count": 131,
   "metadata": {},
   "outputs": [
    {
     "name": "stdout",
     "output_type": "stream",
     "text": [
      "<class 'pandas.core.frame.DataFrame'>\n",
      "Int64Index: 26570 entries, 0 to 26569\n",
      "Data columns (total 30 columns):\n",
      " #   Column           Non-Null Count  Dtype  \n",
      "---  ------           --------------  -----  \n",
      " 0   id               26570 non-null  int64  \n",
      " 1   product_code     26570 non-null  object \n",
      " 2   loading          26570 non-null  float64\n",
      " 3   attribute_0      26570 non-null  float64\n",
      " 4   attribute_1      26570 non-null  object \n",
      " 5   attribute_2      26570 non-null  int64  \n",
      " 6   attribute_3      26570 non-null  int64  \n",
      " 7   measurement_0    26570 non-null  float64\n",
      " 8   measurement_1    26570 non-null  float64\n",
      " 9   measurement_2    26570 non-null  float64\n",
      " 10  measurement_3    26570 non-null  float64\n",
      " 11  measurement_4    26570 non-null  float64\n",
      " 12  measurement_5    26570 non-null  float64\n",
      " 13  measurement_6    26570 non-null  float64\n",
      " 14  measurement_7    26570 non-null  float64\n",
      " 15  measurement_8    26570 non-null  float64\n",
      " 16  measurement_9    26570 non-null  float64\n",
      " 17  measurement_10   26570 non-null  float64\n",
      " 18  measurement_11   26570 non-null  float64\n",
      " 19  measurement_12   26570 non-null  float64\n",
      " 20  measurement_13   26570 non-null  float64\n",
      " 21  measurement_14   26570 non-null  float64\n",
      " 22  measurement_15   26570 non-null  float64\n",
      " 23  measurement_16   26570 non-null  float64\n",
      " 24  measurement_17   26570 non-null  float64\n",
      " 25  failure          26570 non-null  float64\n",
      " 26  m3_missing       26570 non-null  int8   \n",
      " 27  m5_missing       26570 non-null  int8   \n",
      " 28  area             26570 non-null  int64  \n",
      " 29  measurement_avg  26570 non-null  float64\n",
      "dtypes: float64(22), int64(4), int8(2), object(2)\n",
      "memory usage: 5.9+ MB\n"
     ]
    }
   ],
   "source": [
    "df_train.info()"
   ]
  },
  {
   "cell_type": "code",
   "execution_count": 132,
   "metadata": {},
   "outputs": [
    {
     "data": {
      "text/plain": [
       "Index(['id', 'product_code', 'loading', 'measurement_0', 'measurement_1',\n",
       "       'measurement_2', 'measurement_3', 'measurement_4', 'measurement_5',\n",
       "       'measurement_6', 'measurement_7', 'measurement_8', 'measurement_9',\n",
       "       'measurement_10', 'measurement_11', 'measurement_12', 'measurement_13',\n",
       "       'measurement_14', 'measurement_15', 'measurement_16', 'measurement_17',\n",
       "       'failure', 'm3_missing', 'm5_missing', 'area', 'measurement_avg'],\n",
       "      dtype='object')"
      ]
     },
     "execution_count": 132,
     "metadata": {},
     "output_type": "execute_result"
    }
   ],
   "source": [
    "columns = df_train.columns[0:3].append(df_train.columns[7:30])\n",
    "columns"
   ]
  },
  {
   "cell_type": "code",
   "execution_count": 133,
   "metadata": {},
   "outputs": [],
   "source": [
    "def _scale(train_data, val_data, test_data, feats):\n",
    "    scaler = StandardScaler()\n",
    "    \n",
    "    scaled_train = scaler.fit_transform(train_data[feats])\n",
    "    scaled_val = scaler.transform(val_data[feats])\n",
    "    scaled_test = scaler.transform(test_data[feats])\n",
    "    \n",
    "    #back to dataframe\n",
    "    new_train = train_data.copy()\n",
    "    new_val = val_data.copy()\n",
    "    new_test = test_data.copy()\n",
    "    \n",
    "    new_train[feats] = scaled_train\n",
    "    new_val[feats] = scaled_val\n",
    "    new_test[feats] = scaled_test\n",
    "    \n",
    "    assert len(train_data) == len(new_train)\n",
    "    assert len(val_data) == len(new_val)\n",
    "    assert len(test_data) == len(new_test)\n",
    "    \n",
    "    return new_train, new_val, new_test"
   ]
  },
  {
   "cell_type": "code",
   "execution_count": 134,
   "metadata": {},
   "outputs": [
    {
     "name": "stdout",
     "output_type": "stream",
     "text": [
      "(26570, 30) (20775, 30)\n"
     ]
    }
   ],
   "source": [
    "df_train = df_train[df_train.failure.notnull()]\n",
    "df_test = df_test[df_test.failure.isnull()]\n",
    "print(df_train.shape, df_test.shape)"
   ]
  },
  {
   "cell_type": "code",
   "execution_count": 135,
   "metadata": {},
   "outputs": [],
   "source": [
    "X = df_train.drop(['failure'], axis=1)\n",
    "y = df_train.failure"
   ]
  },
  {
   "cell_type": "code",
   "execution_count": 136,
   "metadata": {},
   "outputs": [],
   "source": [
    "def save_fig(x_train, importance_list, features, clf_k):\n",
    "    importance_df = pd.DataFrame(np.array(importance_list).T, index=x_train[features].columns)\n",
    "    importance_df['mean'] = importance_df.mean(axis=1).abs()\n",
    "    importance_df['feature'] = x_train[features].columns\n",
    "    importance_df = importance_df.sort_values('mean', ascending=False).reset_index().head(20)\n",
    "    plt.barh(importance_df.index, importance_df['mean'], color='lightgreen')\n",
    "    plt.gca().invert_yaxis()\n",
    "    plt.yticks(ticks=importance_df.index, labels=importance_df['feature'])\n",
    "    plt.title(f'LR Clf {clf_k} feature importances')\n",
    "    plt.tight_layout()\n",
    "    plt.savefig(f'LR Clf {clf_k} Feature Importance')\n",
    "    plt.show()"
   ]
  },
  {
   "cell_type": "code",
   "execution_count": 137,
   "metadata": {},
   "outputs": [],
   "source": [
    "select_features = {\n",
    "    0: ['loading', 'measurement_17', 'area', 'm5_missing', 'm3_missing', 'attribute_0'],\n",
    "    1: ['loading', 'measurement_17', 'area', 'attribute_0'],\n",
    "    2: ['loading', 'measurement_17', 'area', 'm3_missing', 'm5_missing'],\n",
    "    3: ['loading', 'measurement_17', 'measurement_4']\n",
    "}"
   ]
  },
  {
   "cell_type": "code",
   "execution_count": 138,
   "metadata": {},
   "outputs": [
    {
     "name": "stdout",
     "output_type": "stream",
     "text": [
      "############## Classifier 0 #################\n",
      "########################## 0 ##########################\n",
      "########################## 1 ##########################\n",
      "########################## 2 ##########################\n",
      "########################## 3 ##########################\n",
      "########################## 4 ##########################\n",
      "\u001b[32m\u001b[1mAverage auc = 0.59071, Average acc = 0.78739\u001b[0m\n",
      "\u001b[31m\u001b[1mOOF auc = 0.59066, OOF acc = 0.78739\u001b[0m\n",
      "############# End of Classifier 0 #############\n"
     ]
    },
    {
     "data": {
      "image/png": "[encoded data removed]",
      "text/plain": [
       "<Figure size 640x480 with 1 Axes>"
      ]
     },
     "metadata": {},
     "output_type": "display_data"
    },
    {
     "name": "stdout",
     "output_type": "stream",
     "text": [
      "############## Classifier 1 #################\n",
      "########################## 0 ##########################\n",
      "########################## 1 ##########################\n",
      "########################## 2 ##########################\n",
      "########################## 3 ##########################\n",
      "########################## 4 ##########################\n",
      "\u001b[32m\u001b[1mAverage auc = 0.58998, Average acc = 0.78739\u001b[0m\n",
      "\u001b[31m\u001b[1mOOF auc = 0.58993, OOF acc = 0.78739\u001b[0m\n",
      "############# End of Classifier 1 #############\n"
     ]
    },
    {
     "data": {
      "image/png": "[encoded data removed]",
      "text/plain": [
       "<Figure size 640x480 with 1 Axes>"
      ]
     },
     "metadata": {},
     "output_type": "display_data"
    },
    {
     "name": "stdout",
     "output_type": "stream",
     "text": [
      "############## Classifier 2 #################\n",
      "########################## 0 ##########################\n",
      "########################## 1 ##########################\n",
      "########################## 2 ##########################\n",
      "########################## 3 ##########################\n",
      "########################## 4 ##########################\n",
      "\u001b[32m\u001b[1mAverage auc = 0.59078, Average acc = 0.78739\u001b[0m\n",
      "\u001b[31m\u001b[1mOOF auc = 0.59077, OOF acc = 0.78739\u001b[0m\n",
      "############# End of Classifier 2 #############\n"
     ]
    },
    {
     "data": {
      "image/png": "[encoded data removed]",
      "text/plain": [
       "<Figure size 640x480 with 1 Axes>"
      ]
     },
     "metadata": {},
     "output_type": "display_data"
    },
    {
     "name": "stdout",
     "output_type": "stream",
     "text": [
      "############## Classifier 3 #################\n",
      "########################## 0 ##########################\n",
      "########################## 1 ##########################\n",
      "########################## 2 ##########################\n",
      "########################## 3 ##########################\n",
      "########################## 4 ##########################\n",
      "\u001b[32m\u001b[1mAverage auc = 0.59048, Average acc = 0.78739\u001b[0m\n",
      "\u001b[31m\u001b[1mOOF auc = 0.5904, OOF acc = 0.78739\u001b[0m\n",
      "############# End of Classifier 3 #############\n"
     ]
    },
    {
     "data": {
      "image/png": "[encoded data removed]",
      "text/plain": [
       "<Figure size 640x480 with 1 Axes>"
      ]
     },
     "metadata": {},
     "output_type": "display_data"
    }
   ],
   "source": [
    "#kf = GroupKFold(n_splits=5)\n",
    "kf = StratifiedKFold(n_splits=5, shuffle=True, random_state=0)\n",
    "models = []\n",
    "for clf_k in range(4):\n",
    "    lr_oof_1 = np.zeros(len(train))\n",
    "    lr_oof_2 = np.zeros(len(train))\n",
    "    lr_test = np.zeros(len(test))\n",
    "    lr_auc = 0\n",
    "    lr_acc = 0\n",
    "    importance_list = []\n",
    "    features = select_features[clf_k]\n",
    "    print(f'############## Classifier {clf_k} #################')\n",
    "    for fold_idx, (train_idx, val_idx) in enumerate(kf.split(X, y)):\n",
    "        print(f'########################## {fold_idx} ##########################')\n",
    "        x_train, x_val = X.iloc[train_idx], X.iloc[val_idx]\n",
    "        y_train, y_val = y.iloc[train_idx], y.iloc[val_idx]\n",
    "        x_test = df_test.copy()\n",
    "    \n",
    "        x_train, x_val, x_test = _scale(x_train, x_val, x_test, features)\n",
    "        model = LogisticRegression(max_iter=1000, C=0.0001, dual=False, penalty=\"l2\", solver='newton-cg')\n",
    "        model.fit(x_train[features], y_train)\n",
    "        importance_list.append(model.coef_.ravel())\n",
    "\n",
    "        predictions = model.predict_proba(x_val[features])[:, 1]\n",
    "        lr_auc += roc_auc_score(y_val, predictions) / 5\n",
    "    \n",
    "        y_preds = model.predict(x_val[features])\n",
    "        lr_acc += accuracy_score(y_val, y_preds) / 5\n",
    "    \n",
    "        lr_test += model.predict_proba(x_test[features])[:, -1] / 5\n",
    "        lr_oof_1[val_idx] = predictions\n",
    "        lr_oof_2[val_idx] = y_preds\n",
    "    models.append(model)\n",
    "    print(f\"{Fore.GREEN}{Style.BRIGHT}Average auc = {round(lr_auc, 5)}, Average acc = {round(lr_acc, 5)}{Style.RESET_ALL}\")\n",
    "    print(f\"{Fore.RED}{Style.BRIGHT}OOF auc = {round(roc_auc_score(df_train['failure'], lr_oof_1), 5)}, OOF acc = {round(accuracy_score(df_train['failure'], lr_oof_2), 5)}{Style.RESET_ALL}\")\n",
    "    print(f'############# End of Classifier {clf_k} #############')\n",
    "    \n",
    "    submission[f'lr{clf_k}'] = lr_test\n",
    "    save_fig(x_train=x_train, importance_list=importance_list, features=features, clf_k=clf_k)\n",
    "    "
   ]
  },
  {
   "cell_type": "code",
   "execution_count": 139,
   "metadata": {},
   "outputs": [],
   "source": [
    "submission['rank0'] = rankdata(submission['lr0'])\n",
    "submission['rank1'] = rankdata(submission['lr1'])\n",
    "submission['rank2'] = rankdata(submission['lr2'])\n",
    "submission['rank3'] = rankdata(submission['lr3'])"
   ]
  },
  {
   "cell_type": "code",
   "execution_count": 140,
   "metadata": {},
   "outputs": [],
   "source": [
    "submission['failure'] = submission['rank0']*0.2 + submission['rank1']*0.25 + submission['rank2']*0.25 + submission['rank3']*0.3"
   ]
  },
  {
   "cell_type": "code",
   "execution_count": 141,
   "metadata": {},
   "outputs": [
    {
     "data": {
      "text/html": [
       "<div>\n",
       "<style scoped>\n",
       "    .dataframe tbody tr th:only-of-type {\n",
       "        vertical-align: middle;\n",
       "    }\n",
       "\n",
       "    .dataframe tbody tr th {\n",
       "        vertical-align: top;\n",
       "    }\n",
       "\n",
       "    .dataframe thead th {\n",
       "        text-align: right;\n",
       "    }\n",
       "</style>\n",
       "<table border=\"1\" class=\"dataframe\">\n",
       "  <thead>\n",
       "    <tr style=\"text-align: right;\">\n",
       "      <th></th>\n",
       "      <th>id</th>\n",
       "      <th>failure</th>\n",
       "      <th>lr0</th>\n",
       "      <th>lr1</th>\n",
       "      <th>lr2</th>\n",
       "      <th>lr3</th>\n",
       "      <th>rank0</th>\n",
       "      <th>rank1</th>\n",
       "      <th>rank2</th>\n",
       "      <th>rank3</th>\n",
       "    </tr>\n",
       "  </thead>\n",
       "  <tbody>\n",
       "    <tr>\n",
       "      <th>0</th>\n",
       "      <td>26570</td>\n",
       "      <td>10063.40</td>\n",
       "      <td>0.209881</td>\n",
       "      <td>0.209970</td>\n",
       "      <td>0.213093</td>\n",
       "      <td>0.211275</td>\n",
       "      <td>9698.0</td>\n",
       "      <td>9715.0</td>\n",
       "      <td>10983.0</td>\n",
       "      <td>9831.0</td>\n",
       "    </tr>\n",
       "    <tr>\n",
       "      <th>1</th>\n",
       "      <td>26571</td>\n",
       "      <td>6829.00</td>\n",
       "      <td>0.204818</td>\n",
       "      <td>0.204905</td>\n",
       "      <td>0.207972</td>\n",
       "      <td>0.203990</td>\n",
       "      <td>6870.0</td>\n",
       "      <td>6846.0</td>\n",
       "      <td>8056.0</td>\n",
       "      <td>5765.0</td>\n",
       "    </tr>\n",
       "    <tr>\n",
       "      <th>2</th>\n",
       "      <td>26572</td>\n",
       "      <td>8735.95</td>\n",
       "      <td>0.207679</td>\n",
       "      <td>0.207767</td>\n",
       "      <td>0.210866</td>\n",
       "      <td>0.208697</td>\n",
       "      <td>8438.0</td>\n",
       "      <td>8448.0</td>\n",
       "      <td>9753.0</td>\n",
       "      <td>8327.0</td>\n",
       "    </tr>\n",
       "    <tr>\n",
       "      <th>3</th>\n",
       "      <td>26573</td>\n",
       "      <td>7740.40</td>\n",
       "      <td>0.206097</td>\n",
       "      <td>0.206184</td>\n",
       "      <td>0.209265</td>\n",
       "      <td>0.206573</td>\n",
       "      <td>7559.0</td>\n",
       "      <td>7547.0</td>\n",
       "      <td>8803.0</td>\n",
       "      <td>7137.0</td>\n",
       "    </tr>\n",
       "    <tr>\n",
       "      <th>4</th>\n",
       "      <td>26574</td>\n",
       "      <td>20267.40</td>\n",
       "      <td>0.241206</td>\n",
       "      <td>0.241310</td>\n",
       "      <td>0.244752</td>\n",
       "      <td>0.239381</td>\n",
       "      <td>20265.0</td>\n",
       "      <td>20321.0</td>\n",
       "      <td>20407.0</td>\n",
       "      <td>20108.0</td>\n",
       "    </tr>\n",
       "  </tbody>\n",
       "</table>\n",
       "</div>"
      ],
      "text/plain": [
       "      id   failure       lr0       lr1       lr2       lr3    rank0    rank1  \\\n",
       "0  26570  10063.40  0.209881  0.209970  0.213093  0.211275   9698.0   9715.0   \n",
       "1  26571   6829.00  0.204818  0.204905  0.207972  0.203990   6870.0   6846.0   \n",
       "2  26572   8735.95  0.207679  0.207767  0.210866  0.208697   8438.0   8448.0   \n",
       "3  26573   7740.40  0.206097  0.206184  0.209265  0.206573   7559.0   7547.0   \n",
       "4  26574  20267.40  0.241206  0.241310  0.244752  0.239381  20265.0  20321.0   \n",
       "\n",
       "     rank2    rank3  \n",
       "0  10983.0   9831.0  \n",
       "1   8056.0   5765.0  \n",
       "2   9753.0   8327.0  \n",
       "3   8803.0   7137.0  \n",
       "4  20407.0  20108.0  "
      ]
     },
     "execution_count": 141,
     "metadata": {},
     "output_type": "execute_result"
    }
   ],
   "source": [
    "submission.head()"
   ]
  },
  {
   "cell_type": "code",
   "execution_count": 142,
   "metadata": {},
   "outputs": [],
   "source": [
    "submission[['id', 'failure']].to_csv('submission.csv', index=False)"
   ]
  },
  {
   "cell_type": "code",
   "execution_count": 143,
   "metadata": {},
   "outputs": [],
   "source": [
    "for i, model in enumerate(models):\n",
    "    filename = f'Model{i}.sav'\n",
    "    pickle.dump(model, open(filename, 'wb'))"
   ]
  }
 ],
 "metadata": {
  "kernelspec": {
   "display_name": "Python 3.10.0 64-bit",
   "language": "python",
   "name": "python3"
  },
  "language_info": {
   "codemirror_mode": {
    "name": "ipython",
    "version": 3
   },
   "file_extension": ".py",
   "mimetype": "text/x-python",
   "name": "python",
   "nbconvert_exporter": "python",
   "pygments_lexer": "ipython3",
   "version": "3.10.0"
  },
  "orig_nbformat": 4,
  "vscode": {
   "interpreter": {
    "hash": "369f2c481f4da34e4445cda3fffd2e751bd1c4d706f27375911949ba6bb62e1c"
   }
  }
 },
 "nbformat": 4,
 "nbformat_minor": 2
}
