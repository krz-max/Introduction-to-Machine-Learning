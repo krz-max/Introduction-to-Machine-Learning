{
 "cells": [
  {
   "cell_type": "code",
   "execution_count": 8,
   "metadata": {},
   "outputs": [],
   "source": [
    "# !pip install feature-engine"
   ]
  },
  {
   "cell_type": "code",
   "execution_count": 9,
   "metadata": {},
   "outputs": [],
   "source": [
    "import pickle\n",
    "import warnings\n",
    "\n",
    "import matplotlib.pyplot as plt\n",
    "import numpy as np\n",
    "import pandas as pd\n",
    "import seaborn as sn\n",
    "from colorama import Back, Fore, Style\n",
    "from feature_engine.encoding import WoEEncoder\n",
    "from scipy.stats import rankdata\n",
    "from sklearn.impute import KNNImputer\n",
    "from sklearn.linear_model import (HuberRegressor, LinearRegression,\n",
    "                                  LogisticRegression)\n",
    "from sklearn.metrics import accuracy_score, roc_auc_score\n",
    "from sklearn.model_selection import StratifiedKFold\n",
    "from sklearn.preprocessing import LabelEncoder, StandardScaler\n",
    "\n",
    "warnings.filterwarnings('ignore')"
   ]
  },
  {
   "cell_type": "code",
   "execution_count": 10,
   "metadata": {},
   "outputs": [],
   "source": [
    "train = pd.read_csv('train.csv')\n",
    "test = pd.read_csv('test.csv')\n",
    "submission = pd.read_csv('sample_submission.csv')"
   ]
  },
  {
   "cell_type": "code",
   "execution_count": 11,
   "metadata": {},
   "outputs": [
    {
     "name": "stdout",
     "output_type": "stream",
     "text": [
      "code A has 386 samples to fill nan\n",
      "KNN imputing code A\n",
      "code B has 418 samples to fill nan\n",
      "KNN imputing code B\n",
      "code C has 391 samples to fill nan\n",
      "KNN imputing code C\n",
      "code D has 398 samples to fill nan\n",
      "KNN imputing code D\n",
      "code E has 429 samples to fill nan\n",
      "KNN imputing code E\n",
      "code F has 420 samples to fill nan\n",
      "KNN imputing code F\n",
      "code G has 373 samples to fill nan\n",
      "KNN imputing code G\n",
      "code H has 361 samples to fill nan\n",
      "KNN imputing code H\n",
      "code I has 377 samples to fill nan\n",
      "KNN imputing code I\n"
     ]
    }
   ],
   "source": [
    "def preprocessing(df_train, df_test):\n",
    "    data = pd.concat([df_train, df_test])\n",
    "    \n",
    "    data['m3_missing'] = data['measurement_3'].isnull().astype(np.int8)\n",
    "    data['m5_missing'] = data['measurement_5'].isnull().astype(np.int8)\n",
    "    data['area'] = data['attribute_2'] * data['attribute_3']\n",
    "    data['loading'] = np.log(data['loading'])\n",
    "\n",
    "    full_fill_dict = {\n",
    "        'A': ['measurement_5','measurement_6','measurement_8'],\n",
    "        'B': ['measurement_4','measurement_5','measurement_7'],\n",
    "        'C': ['measurement_5','measurement_7','measurement_8','measurement_9'],\n",
    "        'D': ['measurement_5','measurement_6','measurement_7','measurement_8'],\n",
    "        'E': ['measurement_4','measurement_5','measurement_6','measurement_8'],\n",
    "        'F': ['measurement_4','measurement_5','measurement_6','measurement_7'],\n",
    "        'G': ['measurement_4','measurement_6','measurement_8','measurement_9'],\n",
    "        'H': ['measurement_4','measurement_5','measurement_7','measurement_8','measurement_9'],\n",
    "        'I': ['measurement_3','measurement_7','measurement_8']\n",
    "    }\n",
    "\n",
    "    features = [f for f in test.columns if 'measurement' in f] + ['loading']\n",
    "    for code in data.product_code.unique():\n",
    "        tmp = data[data.product_code==code]\n",
    "        column = full_fill_dict[code]\n",
    "        tmp_train = tmp[column+['measurement_17']].dropna(how='any')\n",
    "        tmp_test = tmp[(tmp[column].isnull().sum(axis=1)==0)&(tmp['measurement_17'].isnull())]\n",
    "        print(f\"code {code} has {len(tmp_test)} samples to fill nan\")\n",
    "        model = HuberRegressor()\n",
    "        model.fit(tmp_train[column], tmp_train['measurement_17'])\n",
    "        data.loc[(data.product_code==code)&(data[column].isnull().sum(axis=1)==0)&(data['measurement_17'].isnull()), 'measurement_17'] = model.predict(tmp_test[column])\n",
    "        model2 = KNNImputer(n_neighbors=5)\n",
    "        print(f\"KNN imputing code {code}\")\n",
    "        data.loc[data.product_code==code, features] = model2.fit_transform(data.loc[data.product_code==code, features])\n",
    "    \n",
    "    data['measurement_avg'] = data[[f'measurement_{i}' for i in range(3, 17)]].mean(axis=1)\n",
    "    \n",
    "    df_train = data.iloc[:df_train.shape[0], :]\n",
    "    df_test = data.iloc[df_train.shape[0]:, :]\n",
    "    \n",
    "    woe_encoder = WoEEncoder(variables=['attribute_0'])\n",
    "    woe_encoder.fit(df_train, df_train['failure'])\n",
    "    df_train = woe_encoder.transform(df_train)\n",
    "    df_test = woe_encoder.transform(df_test)\n",
    "\n",
    "    return df_train, df_test\n",
    "\n",
    "df_train, df_test = preprocessing(train, test)"
   ]
  },
  {
   "cell_type": "code",
   "execution_count": 12,
   "metadata": {},
   "outputs": [],
   "source": [
    "def test_scale(test_data, feats):\n",
    "    scaler = StandardScaler()\n",
    "\n",
    "    scaled_test = scaler.fit_transform(test_data[feats])\n",
    "    \n",
    "    #back to dataframe\n",
    "    new_test = test_data.copy()\n",
    "    \n",
    "    new_test[feats] = scaled_test\n",
    "    \n",
    "    assert len(test_data) == len(new_test)\n",
    "    \n",
    "    return new_test"
   ]
  },
  {
   "cell_type": "code",
   "execution_count": 13,
   "metadata": {},
   "outputs": [],
   "source": [
    "select_features = {\n",
    "    0: ['loading', 'measurement_17', 'area', 'm5_missing', 'm3_missing', 'attribute_0'],\n",
    "    1: ['loading', 'measurement_17', 'area', 'attribute_0'],\n",
    "    2: ['loading', 'measurement_17', 'area', 'm3_missing', 'm5_missing'],\n",
    "    3: ['loading', 'measurement_17', 'measurement_4']\n",
    "}"
   ]
  },
  {
   "cell_type": "code",
   "execution_count": 14,
   "metadata": {},
   "outputs": [
    {
     "name": "stdout",
     "output_type": "stream",
     "text": [
      "############## Classifier 0 #################\n",
      "############## Classifier 1 #################\n",
      "############## Classifier 2 #################\n",
      "############## Classifier 3 #################\n"
     ]
    }
   ],
   "source": [
    "x_test = df_test.copy()\n",
    "for clf_k in range(4):\n",
    "    filename = f'Model{clf_k}.sav'\n",
    "    current_model = pickle.load(open(filename, 'rb'))\n",
    "    print(f'############## Classifier {clf_k} #################')\n",
    "    features = select_features[clf_k]\n",
    "    x_test = test_scale(x_test, features)\n",
    "    lr_test = current_model.predict_proba(x_test[features])[:, -1]\n",
    "    submission[f'lr{clf_k}'] = lr_test"
   ]
  },
  {
   "cell_type": "code",
   "execution_count": 15,
   "metadata": {},
   "outputs": [],
   "source": [
    "submission['rank0'] = rankdata(submission['lr0'])\n",
    "submission['rank1'] = rankdata(submission['lr1'])\n",
    "submission['rank2'] = rankdata(submission['lr2'])\n",
    "submission['rank3'] = rankdata(submission['lr3'])"
   ]
  },
  {
   "cell_type": "code",
   "execution_count": 16,
   "metadata": {},
   "outputs": [],
   "source": [
    "submission['failure'] = submission['rank0']*0.2 + submission['rank1']*0.25 + submission['rank2']*0.25 + submission['rank3']*0.3"
   ]
  },
  {
   "cell_type": "code",
   "execution_count": 17,
   "metadata": {},
   "outputs": [
    {
     "data": {
      "text/html": [
       "<div>\n",
       "<style scoped>\n",
       "    .dataframe tbody tr th:only-of-type {\n",
       "        vertical-align: middle;\n",
       "    }\n",
       "\n",
       "    .dataframe tbody tr th {\n",
       "        vertical-align: top;\n",
       "    }\n",
       "\n",
       "    .dataframe thead th {\n",
       "        text-align: right;\n",
       "    }\n",
       "</style>\n",
       "<table border=\"1\" class=\"dataframe\">\n",
       "  <thead>\n",
       "    <tr style=\"text-align: right;\">\n",
       "      <th></th>\n",
       "      <th>id</th>\n",
       "      <th>failure</th>\n",
       "      <th>lr0</th>\n",
       "      <th>lr1</th>\n",
       "      <th>lr2</th>\n",
       "      <th>lr3</th>\n",
       "      <th>rank0</th>\n",
       "      <th>rank1</th>\n",
       "      <th>rank2</th>\n",
       "      <th>rank3</th>\n",
       "    </tr>\n",
       "  </thead>\n",
       "  <tbody>\n",
       "    <tr>\n",
       "      <th>0</th>\n",
       "      <td>26570</td>\n",
       "      <td>9314.50</td>\n",
       "      <td>0.209299</td>\n",
       "      <td>0.209417</td>\n",
       "      <td>0.210856</td>\n",
       "      <td>0.211499</td>\n",
       "      <td>8699.0</td>\n",
       "      <td>8717.0</td>\n",
       "      <td>9631.0</td>\n",
       "      <td>9959.0</td>\n",
       "    </tr>\n",
       "    <tr>\n",
       "      <th>1</th>\n",
       "      <td>26571</td>\n",
       "      <td>6187.70</td>\n",
       "      <td>0.204278</td>\n",
       "      <td>0.204394</td>\n",
       "      <td>0.205806</td>\n",
       "      <td>0.204075</td>\n",
       "      <td>6053.0</td>\n",
       "      <td>6041.0</td>\n",
       "      <td>6833.0</td>\n",
       "      <td>5862.0</td>\n",
       "    </tr>\n",
       "    <tr>\n",
       "      <th>2</th>\n",
       "      <td>26572</td>\n",
       "      <td>7977.80</td>\n",
       "      <td>0.207035</td>\n",
       "      <td>0.207150</td>\n",
       "      <td>0.208579</td>\n",
       "      <td>0.208823</td>\n",
       "      <td>7512.0</td>\n",
       "      <td>7520.0</td>\n",
       "      <td>8316.0</td>\n",
       "      <td>8388.0</td>\n",
       "    </tr>\n",
       "    <tr>\n",
       "      <th>3</th>\n",
       "      <td>26573</td>\n",
       "      <td>7064.25</td>\n",
       "      <td>0.205507</td>\n",
       "      <td>0.205623</td>\n",
       "      <td>0.207042</td>\n",
       "      <td>0.206711</td>\n",
       "      <td>6712.0</td>\n",
       "      <td>6703.0</td>\n",
       "      <td>7518.0</td>\n",
       "      <td>7222.0</td>\n",
       "    </tr>\n",
       "    <tr>\n",
       "      <th>4</th>\n",
       "      <td>26574</td>\n",
       "      <td>20169.75</td>\n",
       "      <td>0.240900</td>\n",
       "      <td>0.241036</td>\n",
       "      <td>0.242621</td>\n",
       "      <td>0.239694</td>\n",
       "      <td>20128.0</td>\n",
       "      <td>20201.0</td>\n",
       "      <td>20264.0</td>\n",
       "      <td>20093.0</td>\n",
       "    </tr>\n",
       "  </tbody>\n",
       "</table>\n",
       "</div>"
      ],
      "text/plain": [
       "      id   failure       lr0       lr1       lr2       lr3    rank0    rank1  \\\n",
       "0  26570   9314.50  0.209299  0.209417  0.210856  0.211499   8699.0   8717.0   \n",
       "1  26571   6187.70  0.204278  0.204394  0.205806  0.204075   6053.0   6041.0   \n",
       "2  26572   7977.80  0.207035  0.207150  0.208579  0.208823   7512.0   7520.0   \n",
       "3  26573   7064.25  0.205507  0.205623  0.207042  0.206711   6712.0   6703.0   \n",
       "4  26574  20169.75  0.240900  0.241036  0.242621  0.239694  20128.0  20201.0   \n",
       "\n",
       "     rank2    rank3  \n",
       "0   9631.0   9959.0  \n",
       "1   6833.0   5862.0  \n",
       "2   8316.0   8388.0  \n",
       "3   7518.0   7222.0  \n",
       "4  20264.0  20093.0  "
      ]
     },
     "execution_count": 17,
     "metadata": {},
     "output_type": "execute_result"
    }
   ],
   "source": [
    "submission.head()"
   ]
  },
  {
   "cell_type": "code",
   "execution_count": 18,
   "metadata": {},
   "outputs": [],
   "source": [
    "submission[['id', 'failure']].to_csv('submission.csv', index=False)"
   ]
  }
 ],
 "metadata": {
  "kernelspec": {
   "display_name": "Python 3.10.0 64-bit",
   "language": "python",
   "name": "python3"
  },
  "language_info": {
   "codemirror_mode": {
    "name": "ipython",
    "version": 3
   },
   "file_extension": ".py",
   "mimetype": "text/x-python",
   "name": "python",
   "nbconvert_exporter": "python",
   "pygments_lexer": "ipython3",
   "version": "3.10.0"
  },
  "orig_nbformat": 4,
  "vscode": {
   "interpreter": {
    "hash": "369f2c481f4da34e4445cda3fffd2e751bd1c4d706f27375911949ba6bb62e1c"
   }
  }
 },
 "nbformat": 4,
 "nbformat_minor": 2
}
